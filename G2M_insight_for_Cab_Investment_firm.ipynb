{
  "nbformat": 4,
  "nbformat_minor": 0,
  "metadata": {
    "colab": {
      "name": "G2M-insight-for-Cab-Investment-firm.ipynb",
      "provenance": [],
      "collapsed_sections": [
        "Pg6o0rzsWWLR",
        "0laVFXYIWaau",
        "DYNoMTCs1xvc",
        "Nu68X8722ASQ",
        "lGq7qMvQ2fZL",
        "Ux6LBXTd2Keu",
        "EIvYFCJv8O4S"
      ]
    },
    "kernelspec": {
      "name": "python3",
      "display_name": "Python 3"
    },
    "language_info": {
      "name": "python"
    }
  },
  "cells": [
    {
      "cell_type": "markdown",
      "source": [
        "# Load Data and Import Libraries"
      ],
      "metadata": {
        "id": "Pg6o0rzsWWLR"
      }
    },
    {
      "cell_type": "code",
      "execution_count": 1,
      "metadata": {
        "id": "Q4fgCeRnmV5q"
      },
      "outputs": [],
      "source": [
        "import pandas as pd\n",
        "import numpy as np\n",
        "import matplotlib.pyplot as plt \n",
        "import seaborn as sns\n",
        "import plotly.express as px\n",
        "from datetime import datetime, timedelta"
      ]
    },
    {
      "cell_type": "code",
      "source": [
        "from google.colab import drive\n",
        "drive.mount('/content/gdrive')"
      ],
      "metadata": {
        "colab": {
          "base_uri": "https://localhost:8080/"
        },
        "id": "DoUr14DkuwHW",
        "outputId": "23da6ff2-8717-4cfc-aadb-cc1633101e43"
      },
      "execution_count": 2,
      "outputs": [
        {
          "output_type": "stream",
          "name": "stdout",
          "text": [
            "Drive already mounted at /content/gdrive; to attempt to forcibly remount, call drive.mount(\"/content/gdrive\", force_remount=True).\n"
          ]
        }
      ]
    },
    {
      "cell_type": "code",
      "source": [
        "#load datasets\n",
        "cab_data = pd.read_csv('/content/gdrive/MyDrive/DataSets-main/Cab_Data.csv')\n",
        "city =  pd.read_csv('/content/gdrive/MyDrive/DataSets-main/City.csv')\n",
        "customer_id = pd.read_csv('/content/gdrive/MyDrive/DataSets-main/Customer_ID.csv')\n",
        "transaction_id = pd.read_csv('/content/gdrive/MyDrive/DataSets-main/Transaction_ID.csv')"
      ],
      "metadata": {
        "id": "PM1hKb9jvL46"
      },
      "execution_count": 3,
      "outputs": []
    },
    {
      "cell_type": "markdown",
      "source": [
        "# Get information of dataset"
      ],
      "metadata": {
        "id": "0laVFXYIWaau"
      }
    },
    {
      "cell_type": "code",
      "source": [
        "cab_data.info()"
      ],
      "metadata": {
        "colab": {
          "base_uri": "https://localhost:8080/"
        },
        "id": "HkoBIS1ywJwv",
        "outputId": "52e27c84-f3fe-4baf-b66d-7f7feb708535"
      },
      "execution_count": 4,
      "outputs": [
        {
          "output_type": "stream",
          "name": "stdout",
          "text": [
            "<class 'pandas.core.frame.DataFrame'>\n",
            "RangeIndex: 359392 entries, 0 to 359391\n",
            "Data columns (total 7 columns):\n",
            " #   Column          Non-Null Count   Dtype  \n",
            "---  ------          --------------   -----  \n",
            " 0   Transaction ID  359392 non-null  int64  \n",
            " 1   Date of Travel  359392 non-null  int64  \n",
            " 2   Company         359392 non-null  object \n",
            " 3   City            359392 non-null  object \n",
            " 4   KM Travelled    359392 non-null  float64\n",
            " 5   Price Charged   359392 non-null  float64\n",
            " 6   Cost of Trip    359392 non-null  float64\n",
            "dtypes: float64(3), int64(2), object(2)\n",
            "memory usage: 19.2+ MB\n"
          ]
        }
      ]
    },
    {
      "cell_type": "code",
      "source": [
        "city.info()"
      ],
      "metadata": {
        "colab": {
          "base_uri": "https://localhost:8080/"
        },
        "id": "q6oonju1wQcU",
        "outputId": "148a2169-e51c-4da7-d93c-690bcaaf3082"
      },
      "execution_count": 5,
      "outputs": [
        {
          "output_type": "stream",
          "name": "stdout",
          "text": [
            "<class 'pandas.core.frame.DataFrame'>\n",
            "RangeIndex: 20 entries, 0 to 19\n",
            "Data columns (total 3 columns):\n",
            " #   Column      Non-Null Count  Dtype \n",
            "---  ------      --------------  ----- \n",
            " 0   City        20 non-null     object\n",
            " 1   Population  20 non-null     object\n",
            " 2   Users       20 non-null     object\n",
            "dtypes: object(3)\n",
            "memory usage: 608.0+ bytes\n"
          ]
        }
      ]
    },
    {
      "cell_type": "code",
      "source": [
        "customer_id.info()"
      ],
      "metadata": {
        "colab": {
          "base_uri": "https://localhost:8080/"
        },
        "id": "dPArOL4qwTYd",
        "outputId": "63cdece0-eb7e-4369-c9a1-40bc2e41fd44"
      },
      "execution_count": 6,
      "outputs": [
        {
          "output_type": "stream",
          "name": "stdout",
          "text": [
            "<class 'pandas.core.frame.DataFrame'>\n",
            "RangeIndex: 49171 entries, 0 to 49170\n",
            "Data columns (total 4 columns):\n",
            " #   Column              Non-Null Count  Dtype \n",
            "---  ------              --------------  ----- \n",
            " 0   Customer ID         49171 non-null  int64 \n",
            " 1   Gender              49171 non-null  object\n",
            " 2   Age                 49171 non-null  int64 \n",
            " 3   Income (USD/Month)  49171 non-null  int64 \n",
            "dtypes: int64(3), object(1)\n",
            "memory usage: 1.5+ MB\n"
          ]
        }
      ]
    },
    {
      "cell_type": "code",
      "source": [
        "transaction_id.info()"
      ],
      "metadata": {
        "colab": {
          "base_uri": "https://localhost:8080/"
        },
        "id": "V5xiM-_AwaYq",
        "outputId": "c0e1b2c2-4f56-4a2b-a2fe-dac939d07a34"
      },
      "execution_count": 7,
      "outputs": [
        {
          "output_type": "stream",
          "name": "stdout",
          "text": [
            "<class 'pandas.core.frame.DataFrame'>\n",
            "RangeIndex: 440098 entries, 0 to 440097\n",
            "Data columns (total 3 columns):\n",
            " #   Column          Non-Null Count   Dtype \n",
            "---  ------          --------------   ----- \n",
            " 0   Transaction ID  440098 non-null  int64 \n",
            " 1   Customer ID     440098 non-null  int64 \n",
            " 2   Payment_Mode    440098 non-null  object\n",
            "dtypes: int64(2), object(1)\n",
            "memory usage: 10.1+ MB\n"
          ]
        }
      ]
    },
    {
      "cell_type": "markdown",
      "source": [
        "# Get shape of the dataset"
      ],
      "metadata": {
        "id": "DYNoMTCs1xvc"
      }
    },
    {
      "cell_type": "code",
      "source": [
        "cab_data.shape"
      ],
      "metadata": {
        "colab": {
          "base_uri": "https://localhost:8080/"
        },
        "id": "4WKnT0Mbv5RV",
        "outputId": "b61458e2-3691-46a6-bb85-409c995f9d3b"
      },
      "execution_count": 8,
      "outputs": [
        {
          "output_type": "execute_result",
          "data": {
            "text/plain": [
              "(359392, 7)"
            ]
          },
          "metadata": {},
          "execution_count": 8
        }
      ]
    },
    {
      "cell_type": "code",
      "source": [
        "city.shape"
      ],
      "metadata": {
        "colab": {
          "base_uri": "https://localhost:8080/"
        },
        "id": "WAkjI4Jd12sP",
        "outputId": "49b43c10-c9f7-4805-f5c3-57700faa110e"
      },
      "execution_count": 9,
      "outputs": [
        {
          "output_type": "execute_result",
          "data": {
            "text/plain": [
              "(20, 3)"
            ]
          },
          "metadata": {},
          "execution_count": 9
        }
      ]
    },
    {
      "cell_type": "code",
      "source": [
        "customer_id.shape"
      ],
      "metadata": {
        "colab": {
          "base_uri": "https://localhost:8080/"
        },
        "id": "5OTUBYkC181Z",
        "outputId": "fdf5e22c-7208-4027-d8ec-3415e44d9110"
      },
      "execution_count": 10,
      "outputs": [
        {
          "output_type": "execute_result",
          "data": {
            "text/plain": [
              "(49171, 4)"
            ]
          },
          "metadata": {},
          "execution_count": 10
        }
      ]
    },
    {
      "cell_type": "code",
      "source": [
        "transaction_id.shape"
      ],
      "metadata": {
        "colab": {
          "base_uri": "https://localhost:8080/"
        },
        "id": "f-qnOSMvwXmF",
        "outputId": "d1099379-fcf6-4d3e-9942-2e72e44d9784"
      },
      "execution_count": 11,
      "outputs": [
        {
          "output_type": "execute_result",
          "data": {
            "text/plain": [
              "(440098, 3)"
            ]
          },
          "metadata": {},
          "execution_count": 11
        }
      ]
    },
    {
      "cell_type": "markdown",
      "source": [
        "# Check for missing values"
      ],
      "metadata": {
        "id": "Nu68X8722ASQ"
      }
    },
    {
      "cell_type": "code",
      "source": [
        "cab_data.isnull().sum()"
      ],
      "metadata": {
        "colab": {
          "base_uri": "https://localhost:8080/"
        },
        "id": "NqTTGpoXzGay",
        "outputId": "fda95196-827b-4f8f-c73b-10556eaa4fd4"
      },
      "execution_count": 12,
      "outputs": [
        {
          "output_type": "execute_result",
          "data": {
            "text/plain": [
              "Transaction ID    0\n",
              "Date of Travel    0\n",
              "Company           0\n",
              "City              0\n",
              "KM Travelled      0\n",
              "Price Charged     0\n",
              "Cost of Trip      0\n",
              "dtype: int64"
            ]
          },
          "metadata": {},
          "execution_count": 12
        }
      ]
    },
    {
      "cell_type": "code",
      "source": [
        "city.isnull().sum()"
      ],
      "metadata": {
        "colab": {
          "base_uri": "https://localhost:8080/"
        },
        "id": "IMl75vMkzZDX",
        "outputId": "710379cf-1d0c-4dce-8526-7371e7cc0b55"
      },
      "execution_count": 13,
      "outputs": [
        {
          "output_type": "execute_result",
          "data": {
            "text/plain": [
              "City          0\n",
              "Population    0\n",
              "Users         0\n",
              "dtype: int64"
            ]
          },
          "metadata": {},
          "execution_count": 13
        }
      ]
    },
    {
      "cell_type": "code",
      "source": [
        "customer_id.isnull().sum()"
      ],
      "metadata": {
        "colab": {
          "base_uri": "https://localhost:8080/"
        },
        "id": "H5sBujfK0BFX",
        "outputId": "9e2109b1-4a1e-4ba1-86ad-3b1070154e65"
      },
      "execution_count": 14,
      "outputs": [
        {
          "output_type": "execute_result",
          "data": {
            "text/plain": [
              "Customer ID           0\n",
              "Gender                0\n",
              "Age                   0\n",
              "Income (USD/Month)    0\n",
              "dtype: int64"
            ]
          },
          "metadata": {},
          "execution_count": 14
        }
      ]
    },
    {
      "cell_type": "code",
      "source": [
        "transaction_id.isnull().sum()"
      ],
      "metadata": {
        "colab": {
          "base_uri": "https://localhost:8080/"
        },
        "id": "m-wdxP0G2HiM",
        "outputId": "94bc2e5b-fd36-4731-ae77-b418fc6335ef"
      },
      "execution_count": 15,
      "outputs": [
        {
          "output_type": "execute_result",
          "data": {
            "text/plain": [
              "Transaction ID    0\n",
              "Customer ID       0\n",
              "Payment_Mode      0\n",
              "dtype: int64"
            ]
          },
          "metadata": {},
          "execution_count": 15
        }
      ]
    },
    {
      "cell_type": "markdown",
      "source": [
        "# Check for duplicate values"
      ],
      "metadata": {
        "id": "lGq7qMvQ2fZL"
      }
    },
    {
      "cell_type": "code",
      "source": [
        "transaction_id['Customer ID'].duplicated().any()"
      ],
      "metadata": {
        "colab": {
          "base_uri": "https://localhost:8080/"
        },
        "id": "nVJHeZMC2Wqb",
        "outputId": "ecbf4d86-7bf4-43bb-c916-2dcef03b1288"
      },
      "execution_count": 16,
      "outputs": [
        {
          "output_type": "execute_result",
          "data": {
            "text/plain": [
              "True"
            ]
          },
          "metadata": {},
          "execution_count": 16
        }
      ]
    },
    {
      "cell_type": "markdown",
      "source": [
        "# Merge dataset"
      ],
      "metadata": {
        "id": "Ux6LBXTd2Keu"
      }
    },
    {
      "cell_type": "code",
      "source": [
        "merged_data= pd.merge(cab_data, right = transaction_id, left_on='Transaction ID', right_on='Transaction ID')\n",
        "merged= pd.merge(left = merged_data , right= customer_id, left_on='Customer ID', right_on='Customer ID')\n",
        "dataset = pd.merge(left = merged , right= city, left_on='City', right_on='City')\n",
        "dataset.info()"
      ],
      "metadata": {
        "colab": {
          "base_uri": "https://localhost:8080/"
        },
        "id": "OyNJeoOP75MQ",
        "outputId": "b3ba57c3-800d-4154-ad2c-5b4528ff4a71"
      },
      "execution_count": 17,
      "outputs": [
        {
          "output_type": "stream",
          "name": "stdout",
          "text": [
            "<class 'pandas.core.frame.DataFrame'>\n",
            "Int64Index: 359392 entries, 0 to 359391\n",
            "Data columns (total 14 columns):\n",
            " #   Column              Non-Null Count   Dtype  \n",
            "---  ------              --------------   -----  \n",
            " 0   Transaction ID      359392 non-null  int64  \n",
            " 1   Date of Travel      359392 non-null  int64  \n",
            " 2   Company             359392 non-null  object \n",
            " 3   City                359392 non-null  object \n",
            " 4   KM Travelled        359392 non-null  float64\n",
            " 5   Price Charged       359392 non-null  float64\n",
            " 6   Cost of Trip        359392 non-null  float64\n",
            " 7   Customer ID         359392 non-null  int64  \n",
            " 8   Payment_Mode        359392 non-null  object \n",
            " 9   Gender              359392 non-null  object \n",
            " 10  Age                 359392 non-null  int64  \n",
            " 11  Income (USD/Month)  359392 non-null  int64  \n",
            " 12  Population          359392 non-null  object \n",
            " 13  Users               359392 non-null  object \n",
            "dtypes: float64(3), int64(5), object(6)\n",
            "memory usage: 41.1+ MB\n"
          ]
        }
      ]
    },
    {
      "cell_type": "code",
      "source": [
        "dataset.head(10)"
      ],
      "metadata": {
        "colab": {
          "base_uri": "https://localhost:8080/",
          "height": 0
        },
        "id": "WQFfORrX9h6H",
        "outputId": "94640d31-d52b-4034-edac-c75b6be1b5fb"
      },
      "execution_count": 18,
      "outputs": [
        {
          "output_type": "execute_result",
          "data": {
            "text/plain": [
              "   Transaction ID  Date of Travel     Company        City  KM Travelled  \\\n",
              "0        10000011           42377    Pink Cab  ATLANTA GA         30.45   \n",
              "1        10351127           43302  Yellow Cab  ATLANTA GA         26.19   \n",
              "2        10412921           43427  Yellow Cab  ATLANTA GA         42.55   \n",
              "3        10000012           42375    Pink Cab  ATLANTA GA         28.62   \n",
              "4        10320494           43211  Yellow Cab  ATLANTA GA         36.38   \n",
              "5        10324737           43224  Yellow Cab  ATLANTA GA          6.18   \n",
              "6        10395626           43400    Pink Cab  ATLANTA GA         13.39   \n",
              "7        10000013           42371    Pink Cab  ATLANTA GA          9.04   \n",
              "8        10079404           42634  Yellow Cab  ATLANTA GA         39.60   \n",
              "9        10186994           42909  Yellow Cab  ATLANTA GA         18.19   \n",
              "\n",
              "   Price Charged  Cost of Trip  Customer ID Payment_Mode Gender  Age  \\\n",
              "0         370.95      313.6350        29290         Card   Male   28   \n",
              "1         598.70      317.4228        29290         Cash   Male   28   \n",
              "2         792.05      597.4020        29290         Card   Male   28   \n",
              "3         358.52      334.8540        27703         Card   Male   27   \n",
              "4         721.10      467.1192        27703         Card   Male   27   \n",
              "5         138.40       87.5088        27703         Cash   Male   27   \n",
              "6         167.03      141.9340        27703         Card   Male   27   \n",
              "7         125.20       97.6320        28712         Cash   Male   53   \n",
              "8         704.30      494.2080        28712         Card   Male   53   \n",
              "9         365.63      246.6564        28712         Card   Male   53   \n",
              "\n",
              "   Income (USD/Month) Population     Users  \n",
              "0               10813   814,885    24,701   \n",
              "1               10813   814,885    24,701   \n",
              "2               10813   814,885    24,701   \n",
              "3                9237   814,885    24,701   \n",
              "4                9237   814,885    24,701   \n",
              "5                9237   814,885    24,701   \n",
              "6                9237   814,885    24,701   \n",
              "7               11242   814,885    24,701   \n",
              "8               11242   814,885    24,701   \n",
              "9               11242   814,885    24,701   "
            ],
            "text/html": [
              "\n",
              "  <div id=\"df-63c71844-1662-41cd-80c2-f3b42a53f30e\">\n",
              "    <div class=\"colab-df-container\">\n",
              "      <div>\n",
              "<style scoped>\n",
              "    .dataframe tbody tr th:only-of-type {\n",
              "        vertical-align: middle;\n",
              "    }\n",
              "\n",
              "    .dataframe tbody tr th {\n",
              "        vertical-align: top;\n",
              "    }\n",
              "\n",
              "    .dataframe thead th {\n",
              "        text-align: right;\n",
              "    }\n",
              "</style>\n",
              "<table border=\"1\" class=\"dataframe\">\n",
              "  <thead>\n",
              "    <tr style=\"text-align: right;\">\n",
              "      <th></th>\n",
              "      <th>Transaction ID</th>\n",
              "      <th>Date of Travel</th>\n",
              "      <th>Company</th>\n",
              "      <th>City</th>\n",
              "      <th>KM Travelled</th>\n",
              "      <th>Price Charged</th>\n",
              "      <th>Cost of Trip</th>\n",
              "      <th>Customer ID</th>\n",
              "      <th>Payment_Mode</th>\n",
              "      <th>Gender</th>\n",
              "      <th>Age</th>\n",
              "      <th>Income (USD/Month)</th>\n",
              "      <th>Population</th>\n",
              "      <th>Users</th>\n",
              "    </tr>\n",
              "  </thead>\n",
              "  <tbody>\n",
              "    <tr>\n",
              "      <th>0</th>\n",
              "      <td>10000011</td>\n",
              "      <td>42377</td>\n",
              "      <td>Pink Cab</td>\n",
              "      <td>ATLANTA GA</td>\n",
              "      <td>30.45</td>\n",
              "      <td>370.95</td>\n",
              "      <td>313.6350</td>\n",
              "      <td>29290</td>\n",
              "      <td>Card</td>\n",
              "      <td>Male</td>\n",
              "      <td>28</td>\n",
              "      <td>10813</td>\n",
              "      <td>814,885</td>\n",
              "      <td>24,701</td>\n",
              "    </tr>\n",
              "    <tr>\n",
              "      <th>1</th>\n",
              "      <td>10351127</td>\n",
              "      <td>43302</td>\n",
              "      <td>Yellow Cab</td>\n",
              "      <td>ATLANTA GA</td>\n",
              "      <td>26.19</td>\n",
              "      <td>598.70</td>\n",
              "      <td>317.4228</td>\n",
              "      <td>29290</td>\n",
              "      <td>Cash</td>\n",
              "      <td>Male</td>\n",
              "      <td>28</td>\n",
              "      <td>10813</td>\n",
              "      <td>814,885</td>\n",
              "      <td>24,701</td>\n",
              "    </tr>\n",
              "    <tr>\n",
              "      <th>2</th>\n",
              "      <td>10412921</td>\n",
              "      <td>43427</td>\n",
              "      <td>Yellow Cab</td>\n",
              "      <td>ATLANTA GA</td>\n",
              "      <td>42.55</td>\n",
              "      <td>792.05</td>\n",
              "      <td>597.4020</td>\n",
              "      <td>29290</td>\n",
              "      <td>Card</td>\n",
              "      <td>Male</td>\n",
              "      <td>28</td>\n",
              "      <td>10813</td>\n",
              "      <td>814,885</td>\n",
              "      <td>24,701</td>\n",
              "    </tr>\n",
              "    <tr>\n",
              "      <th>3</th>\n",
              "      <td>10000012</td>\n",
              "      <td>42375</td>\n",
              "      <td>Pink Cab</td>\n",
              "      <td>ATLANTA GA</td>\n",
              "      <td>28.62</td>\n",
              "      <td>358.52</td>\n",
              "      <td>334.8540</td>\n",
              "      <td>27703</td>\n",
              "      <td>Card</td>\n",
              "      <td>Male</td>\n",
              "      <td>27</td>\n",
              "      <td>9237</td>\n",
              "      <td>814,885</td>\n",
              "      <td>24,701</td>\n",
              "    </tr>\n",
              "    <tr>\n",
              "      <th>4</th>\n",
              "      <td>10320494</td>\n",
              "      <td>43211</td>\n",
              "      <td>Yellow Cab</td>\n",
              "      <td>ATLANTA GA</td>\n",
              "      <td>36.38</td>\n",
              "      <td>721.10</td>\n",
              "      <td>467.1192</td>\n",
              "      <td>27703</td>\n",
              "      <td>Card</td>\n",
              "      <td>Male</td>\n",
              "      <td>27</td>\n",
              "      <td>9237</td>\n",
              "      <td>814,885</td>\n",
              "      <td>24,701</td>\n",
              "    </tr>\n",
              "    <tr>\n",
              "      <th>5</th>\n",
              "      <td>10324737</td>\n",
              "      <td>43224</td>\n",
              "      <td>Yellow Cab</td>\n",
              "      <td>ATLANTA GA</td>\n",
              "      <td>6.18</td>\n",
              "      <td>138.40</td>\n",
              "      <td>87.5088</td>\n",
              "      <td>27703</td>\n",
              "      <td>Cash</td>\n",
              "      <td>Male</td>\n",
              "      <td>27</td>\n",
              "      <td>9237</td>\n",
              "      <td>814,885</td>\n",
              "      <td>24,701</td>\n",
              "    </tr>\n",
              "    <tr>\n",
              "      <th>6</th>\n",
              "      <td>10395626</td>\n",
              "      <td>43400</td>\n",
              "      <td>Pink Cab</td>\n",
              "      <td>ATLANTA GA</td>\n",
              "      <td>13.39</td>\n",
              "      <td>167.03</td>\n",
              "      <td>141.9340</td>\n",
              "      <td>27703</td>\n",
              "      <td>Card</td>\n",
              "      <td>Male</td>\n",
              "      <td>27</td>\n",
              "      <td>9237</td>\n",
              "      <td>814,885</td>\n",
              "      <td>24,701</td>\n",
              "    </tr>\n",
              "    <tr>\n",
              "      <th>7</th>\n",
              "      <td>10000013</td>\n",
              "      <td>42371</td>\n",
              "      <td>Pink Cab</td>\n",
              "      <td>ATLANTA GA</td>\n",
              "      <td>9.04</td>\n",
              "      <td>125.20</td>\n",
              "      <td>97.6320</td>\n",
              "      <td>28712</td>\n",
              "      <td>Cash</td>\n",
              "      <td>Male</td>\n",
              "      <td>53</td>\n",
              "      <td>11242</td>\n",
              "      <td>814,885</td>\n",
              "      <td>24,701</td>\n",
              "    </tr>\n",
              "    <tr>\n",
              "      <th>8</th>\n",
              "      <td>10079404</td>\n",
              "      <td>42634</td>\n",
              "      <td>Yellow Cab</td>\n",
              "      <td>ATLANTA GA</td>\n",
              "      <td>39.60</td>\n",
              "      <td>704.30</td>\n",
              "      <td>494.2080</td>\n",
              "      <td>28712</td>\n",
              "      <td>Card</td>\n",
              "      <td>Male</td>\n",
              "      <td>53</td>\n",
              "      <td>11242</td>\n",
              "      <td>814,885</td>\n",
              "      <td>24,701</td>\n",
              "    </tr>\n",
              "    <tr>\n",
              "      <th>9</th>\n",
              "      <td>10186994</td>\n",
              "      <td>42909</td>\n",
              "      <td>Yellow Cab</td>\n",
              "      <td>ATLANTA GA</td>\n",
              "      <td>18.19</td>\n",
              "      <td>365.63</td>\n",
              "      <td>246.6564</td>\n",
              "      <td>28712</td>\n",
              "      <td>Card</td>\n",
              "      <td>Male</td>\n",
              "      <td>53</td>\n",
              "      <td>11242</td>\n",
              "      <td>814,885</td>\n",
              "      <td>24,701</td>\n",
              "    </tr>\n",
              "  </tbody>\n",
              "</table>\n",
              "</div>\n",
              "      <button class=\"colab-df-convert\" onclick=\"convertToInteractive('df-63c71844-1662-41cd-80c2-f3b42a53f30e')\"\n",
              "              title=\"Convert this dataframe to an interactive table.\"\n",
              "              style=\"display:none;\">\n",
              "        \n",
              "  <svg xmlns=\"http://www.w3.org/2000/svg\" height=\"24px\"viewBox=\"0 0 24 24\"\n",
              "       width=\"24px\">\n",
              "    <path d=\"M0 0h24v24H0V0z\" fill=\"none\"/>\n",
              "    <path d=\"M18.56 5.44l.94 2.06.94-2.06 2.06-.94-2.06-.94-.94-2.06-.94 2.06-2.06.94zm-11 1L8.5 8.5l.94-2.06 2.06-.94-2.06-.94L8.5 2.5l-.94 2.06-2.06.94zm10 10l.94 2.06.94-2.06 2.06-.94-2.06-.94-.94-2.06-.94 2.06-2.06.94z\"/><path d=\"M17.41 7.96l-1.37-1.37c-.4-.4-.92-.59-1.43-.59-.52 0-1.04.2-1.43.59L10.3 9.45l-7.72 7.72c-.78.78-.78 2.05 0 2.83L4 21.41c.39.39.9.59 1.41.59.51 0 1.02-.2 1.41-.59l7.78-7.78 2.81-2.81c.8-.78.8-2.07 0-2.86zM5.41 20L4 18.59l7.72-7.72 1.47 1.35L5.41 20z\"/>\n",
              "  </svg>\n",
              "      </button>\n",
              "      \n",
              "  <style>\n",
              "    .colab-df-container {\n",
              "      display:flex;\n",
              "      flex-wrap:wrap;\n",
              "      gap: 12px;\n",
              "    }\n",
              "\n",
              "    .colab-df-convert {\n",
              "      background-color: #E8F0FE;\n",
              "      border: none;\n",
              "      border-radius: 50%;\n",
              "      cursor: pointer;\n",
              "      display: none;\n",
              "      fill: #1967D2;\n",
              "      height: 32px;\n",
              "      padding: 0 0 0 0;\n",
              "      width: 32px;\n",
              "    }\n",
              "\n",
              "    .colab-df-convert:hover {\n",
              "      background-color: #E2EBFA;\n",
              "      box-shadow: 0px 1px 2px rgba(60, 64, 67, 0.3), 0px 1px 3px 1px rgba(60, 64, 67, 0.15);\n",
              "      fill: #174EA6;\n",
              "    }\n",
              "\n",
              "    [theme=dark] .colab-df-convert {\n",
              "      background-color: #3B4455;\n",
              "      fill: #D2E3FC;\n",
              "    }\n",
              "\n",
              "    [theme=dark] .colab-df-convert:hover {\n",
              "      background-color: #434B5C;\n",
              "      box-shadow: 0px 1px 3px 1px rgba(0, 0, 0, 0.15);\n",
              "      filter: drop-shadow(0px 1px 2px rgba(0, 0, 0, 0.3));\n",
              "      fill: #FFFFFF;\n",
              "    }\n",
              "  </style>\n",
              "\n",
              "      <script>\n",
              "        const buttonEl =\n",
              "          document.querySelector('#df-63c71844-1662-41cd-80c2-f3b42a53f30e button.colab-df-convert');\n",
              "        buttonEl.style.display =\n",
              "          google.colab.kernel.accessAllowed ? 'block' : 'none';\n",
              "\n",
              "        async function convertToInteractive(key) {\n",
              "          const element = document.querySelector('#df-63c71844-1662-41cd-80c2-f3b42a53f30e');\n",
              "          const dataTable =\n",
              "            await google.colab.kernel.invokeFunction('convertToInteractive',\n",
              "                                                     [key], {});\n",
              "          if (!dataTable) return;\n",
              "\n",
              "          const docLinkHtml = 'Like what you see? Visit the ' +\n",
              "            '<a target=\"_blank\" href=https://colab.research.google.com/notebooks/data_table.ipynb>data table notebook</a>'\n",
              "            + ' to learn more about interactive tables.';\n",
              "          element.innerHTML = '';\n",
              "          dataTable['output_type'] = 'display_data';\n",
              "          await google.colab.output.renderOutput(dataTable, element);\n",
              "          const docLink = document.createElement('div');\n",
              "          docLink.innerHTML = docLinkHtml;\n",
              "          element.appendChild(docLink);\n",
              "        }\n",
              "      </script>\n",
              "    </div>\n",
              "  </div>\n",
              "  "
            ]
          },
          "metadata": {},
          "execution_count": 18
        }
      ]
    },
    {
      "cell_type": "markdown",
      "source": [
        "# Preprocess the datasets(Data Cleaning)"
      ],
      "metadata": {
        "id": "EIvYFCJv8O4S"
      }
    },
    {
      "cell_type": "code",
      "source": [
        "def to_date_format(n):\n",
        "    date_str =(datetime(1899,12,30) + timedelta(n-1)).strftime(\"%d-%m-%Y\")\n",
        "    date =  datetime.strptime(date_str, \"%d-%m-%Y\")\n",
        "    return date"
      ],
      "metadata": {
        "id": "5tTJt13-4NZu"
      },
      "execution_count": 19,
      "outputs": []
    },
    {
      "cell_type": "code",
      "source": [
        "dataset['Date of Travel'] = dataset['Date of Travel'].apply(lambda x:to_date_format(x))"
      ],
      "metadata": {
        "id": "h4GzTWP24N9H"
      },
      "execution_count": 20,
      "outputs": []
    },
    {
      "cell_type": "code",
      "source": [
        "dataset.head(10)"
      ],
      "metadata": {
        "colab": {
          "base_uri": "https://localhost:8080/",
          "height": 0
        },
        "id": "5tpmJSWl8Kdq",
        "outputId": "ce682b61-55e2-4748-c0fc-564eaac195ca"
      },
      "execution_count": 21,
      "outputs": [
        {
          "output_type": "execute_result",
          "data": {
            "text/plain": [
              "   Transaction ID Date of Travel     Company        City  KM Travelled  \\\n",
              "0        10000011     2016-01-07    Pink Cab  ATLANTA GA         30.45   \n",
              "1        10351127     2018-07-20  Yellow Cab  ATLANTA GA         26.19   \n",
              "2        10412921     2018-11-22  Yellow Cab  ATLANTA GA         42.55   \n",
              "3        10000012     2016-01-05    Pink Cab  ATLANTA GA         28.62   \n",
              "4        10320494     2018-04-20  Yellow Cab  ATLANTA GA         36.38   \n",
              "5        10324737     2018-05-03  Yellow Cab  ATLANTA GA          6.18   \n",
              "6        10395626     2018-10-26    Pink Cab  ATLANTA GA         13.39   \n",
              "7        10000013     2016-01-01    Pink Cab  ATLANTA GA          9.04   \n",
              "8        10079404     2016-09-20  Yellow Cab  ATLANTA GA         39.60   \n",
              "9        10186994     2017-06-22  Yellow Cab  ATLANTA GA         18.19   \n",
              "\n",
              "   Price Charged  Cost of Trip  Customer ID Payment_Mode Gender  Age  \\\n",
              "0         370.95      313.6350        29290         Card   Male   28   \n",
              "1         598.70      317.4228        29290         Cash   Male   28   \n",
              "2         792.05      597.4020        29290         Card   Male   28   \n",
              "3         358.52      334.8540        27703         Card   Male   27   \n",
              "4         721.10      467.1192        27703         Card   Male   27   \n",
              "5         138.40       87.5088        27703         Cash   Male   27   \n",
              "6         167.03      141.9340        27703         Card   Male   27   \n",
              "7         125.20       97.6320        28712         Cash   Male   53   \n",
              "8         704.30      494.2080        28712         Card   Male   53   \n",
              "9         365.63      246.6564        28712         Card   Male   53   \n",
              "\n",
              "   Income (USD/Month) Population     Users  \n",
              "0               10813   814,885    24,701   \n",
              "1               10813   814,885    24,701   \n",
              "2               10813   814,885    24,701   \n",
              "3                9237   814,885    24,701   \n",
              "4                9237   814,885    24,701   \n",
              "5                9237   814,885    24,701   \n",
              "6                9237   814,885    24,701   \n",
              "7               11242   814,885    24,701   \n",
              "8               11242   814,885    24,701   \n",
              "9               11242   814,885    24,701   "
            ],
            "text/html": [
              "\n",
              "  <div id=\"df-bffc1bc0-0881-402e-a0c9-bf1fed3b6185\">\n",
              "    <div class=\"colab-df-container\">\n",
              "      <div>\n",
              "<style scoped>\n",
              "    .dataframe tbody tr th:only-of-type {\n",
              "        vertical-align: middle;\n",
              "    }\n",
              "\n",
              "    .dataframe tbody tr th {\n",
              "        vertical-align: top;\n",
              "    }\n",
              "\n",
              "    .dataframe thead th {\n",
              "        text-align: right;\n",
              "    }\n",
              "</style>\n",
              "<table border=\"1\" class=\"dataframe\">\n",
              "  <thead>\n",
              "    <tr style=\"text-align: right;\">\n",
              "      <th></th>\n",
              "      <th>Transaction ID</th>\n",
              "      <th>Date of Travel</th>\n",
              "      <th>Company</th>\n",
              "      <th>City</th>\n",
              "      <th>KM Travelled</th>\n",
              "      <th>Price Charged</th>\n",
              "      <th>Cost of Trip</th>\n",
              "      <th>Customer ID</th>\n",
              "      <th>Payment_Mode</th>\n",
              "      <th>Gender</th>\n",
              "      <th>Age</th>\n",
              "      <th>Income (USD/Month)</th>\n",
              "      <th>Population</th>\n",
              "      <th>Users</th>\n",
              "    </tr>\n",
              "  </thead>\n",
              "  <tbody>\n",
              "    <tr>\n",
              "      <th>0</th>\n",
              "      <td>10000011</td>\n",
              "      <td>2016-01-07</td>\n",
              "      <td>Pink Cab</td>\n",
              "      <td>ATLANTA GA</td>\n",
              "      <td>30.45</td>\n",
              "      <td>370.95</td>\n",
              "      <td>313.6350</td>\n",
              "      <td>29290</td>\n",
              "      <td>Card</td>\n",
              "      <td>Male</td>\n",
              "      <td>28</td>\n",
              "      <td>10813</td>\n",
              "      <td>814,885</td>\n",
              "      <td>24,701</td>\n",
              "    </tr>\n",
              "    <tr>\n",
              "      <th>1</th>\n",
              "      <td>10351127</td>\n",
              "      <td>2018-07-20</td>\n",
              "      <td>Yellow Cab</td>\n",
              "      <td>ATLANTA GA</td>\n",
              "      <td>26.19</td>\n",
              "      <td>598.70</td>\n",
              "      <td>317.4228</td>\n",
              "      <td>29290</td>\n",
              "      <td>Cash</td>\n",
              "      <td>Male</td>\n",
              "      <td>28</td>\n",
              "      <td>10813</td>\n",
              "      <td>814,885</td>\n",
              "      <td>24,701</td>\n",
              "    </tr>\n",
              "    <tr>\n",
              "      <th>2</th>\n",
              "      <td>10412921</td>\n",
              "      <td>2018-11-22</td>\n",
              "      <td>Yellow Cab</td>\n",
              "      <td>ATLANTA GA</td>\n",
              "      <td>42.55</td>\n",
              "      <td>792.05</td>\n",
              "      <td>597.4020</td>\n",
              "      <td>29290</td>\n",
              "      <td>Card</td>\n",
              "      <td>Male</td>\n",
              "      <td>28</td>\n",
              "      <td>10813</td>\n",
              "      <td>814,885</td>\n",
              "      <td>24,701</td>\n",
              "    </tr>\n",
              "    <tr>\n",
              "      <th>3</th>\n",
              "      <td>10000012</td>\n",
              "      <td>2016-01-05</td>\n",
              "      <td>Pink Cab</td>\n",
              "      <td>ATLANTA GA</td>\n",
              "      <td>28.62</td>\n",
              "      <td>358.52</td>\n",
              "      <td>334.8540</td>\n",
              "      <td>27703</td>\n",
              "      <td>Card</td>\n",
              "      <td>Male</td>\n",
              "      <td>27</td>\n",
              "      <td>9237</td>\n",
              "      <td>814,885</td>\n",
              "      <td>24,701</td>\n",
              "    </tr>\n",
              "    <tr>\n",
              "      <th>4</th>\n",
              "      <td>10320494</td>\n",
              "      <td>2018-04-20</td>\n",
              "      <td>Yellow Cab</td>\n",
              "      <td>ATLANTA GA</td>\n",
              "      <td>36.38</td>\n",
              "      <td>721.10</td>\n",
              "      <td>467.1192</td>\n",
              "      <td>27703</td>\n",
              "      <td>Card</td>\n",
              "      <td>Male</td>\n",
              "      <td>27</td>\n",
              "      <td>9237</td>\n",
              "      <td>814,885</td>\n",
              "      <td>24,701</td>\n",
              "    </tr>\n",
              "    <tr>\n",
              "      <th>5</th>\n",
              "      <td>10324737</td>\n",
              "      <td>2018-05-03</td>\n",
              "      <td>Yellow Cab</td>\n",
              "      <td>ATLANTA GA</td>\n",
              "      <td>6.18</td>\n",
              "      <td>138.40</td>\n",
              "      <td>87.5088</td>\n",
              "      <td>27703</td>\n",
              "      <td>Cash</td>\n",
              "      <td>Male</td>\n",
              "      <td>27</td>\n",
              "      <td>9237</td>\n",
              "      <td>814,885</td>\n",
              "      <td>24,701</td>\n",
              "    </tr>\n",
              "    <tr>\n",
              "      <th>6</th>\n",
              "      <td>10395626</td>\n",
              "      <td>2018-10-26</td>\n",
              "      <td>Pink Cab</td>\n",
              "      <td>ATLANTA GA</td>\n",
              "      <td>13.39</td>\n",
              "      <td>167.03</td>\n",
              "      <td>141.9340</td>\n",
              "      <td>27703</td>\n",
              "      <td>Card</td>\n",
              "      <td>Male</td>\n",
              "      <td>27</td>\n",
              "      <td>9237</td>\n",
              "      <td>814,885</td>\n",
              "      <td>24,701</td>\n",
              "    </tr>\n",
              "    <tr>\n",
              "      <th>7</th>\n",
              "      <td>10000013</td>\n",
              "      <td>2016-01-01</td>\n",
              "      <td>Pink Cab</td>\n",
              "      <td>ATLANTA GA</td>\n",
              "      <td>9.04</td>\n",
              "      <td>125.20</td>\n",
              "      <td>97.6320</td>\n",
              "      <td>28712</td>\n",
              "      <td>Cash</td>\n",
              "      <td>Male</td>\n",
              "      <td>53</td>\n",
              "      <td>11242</td>\n",
              "      <td>814,885</td>\n",
              "      <td>24,701</td>\n",
              "    </tr>\n",
              "    <tr>\n",
              "      <th>8</th>\n",
              "      <td>10079404</td>\n",
              "      <td>2016-09-20</td>\n",
              "      <td>Yellow Cab</td>\n",
              "      <td>ATLANTA GA</td>\n",
              "      <td>39.60</td>\n",
              "      <td>704.30</td>\n",
              "      <td>494.2080</td>\n",
              "      <td>28712</td>\n",
              "      <td>Card</td>\n",
              "      <td>Male</td>\n",
              "      <td>53</td>\n",
              "      <td>11242</td>\n",
              "      <td>814,885</td>\n",
              "      <td>24,701</td>\n",
              "    </tr>\n",
              "    <tr>\n",
              "      <th>9</th>\n",
              "      <td>10186994</td>\n",
              "      <td>2017-06-22</td>\n",
              "      <td>Yellow Cab</td>\n",
              "      <td>ATLANTA GA</td>\n",
              "      <td>18.19</td>\n",
              "      <td>365.63</td>\n",
              "      <td>246.6564</td>\n",
              "      <td>28712</td>\n",
              "      <td>Card</td>\n",
              "      <td>Male</td>\n",
              "      <td>53</td>\n",
              "      <td>11242</td>\n",
              "      <td>814,885</td>\n",
              "      <td>24,701</td>\n",
              "    </tr>\n",
              "  </tbody>\n",
              "</table>\n",
              "</div>\n",
              "      <button class=\"colab-df-convert\" onclick=\"convertToInteractive('df-bffc1bc0-0881-402e-a0c9-bf1fed3b6185')\"\n",
              "              title=\"Convert this dataframe to an interactive table.\"\n",
              "              style=\"display:none;\">\n",
              "        \n",
              "  <svg xmlns=\"http://www.w3.org/2000/svg\" height=\"24px\"viewBox=\"0 0 24 24\"\n",
              "       width=\"24px\">\n",
              "    <path d=\"M0 0h24v24H0V0z\" fill=\"none\"/>\n",
              "    <path d=\"M18.56 5.44l.94 2.06.94-2.06 2.06-.94-2.06-.94-.94-2.06-.94 2.06-2.06.94zm-11 1L8.5 8.5l.94-2.06 2.06-.94-2.06-.94L8.5 2.5l-.94 2.06-2.06.94zm10 10l.94 2.06.94-2.06 2.06-.94-2.06-.94-.94-2.06-.94 2.06-2.06.94z\"/><path d=\"M17.41 7.96l-1.37-1.37c-.4-.4-.92-.59-1.43-.59-.52 0-1.04.2-1.43.59L10.3 9.45l-7.72 7.72c-.78.78-.78 2.05 0 2.83L4 21.41c.39.39.9.59 1.41.59.51 0 1.02-.2 1.41-.59l7.78-7.78 2.81-2.81c.8-.78.8-2.07 0-2.86zM5.41 20L4 18.59l7.72-7.72 1.47 1.35L5.41 20z\"/>\n",
              "  </svg>\n",
              "      </button>\n",
              "      \n",
              "  <style>\n",
              "    .colab-df-container {\n",
              "      display:flex;\n",
              "      flex-wrap:wrap;\n",
              "      gap: 12px;\n",
              "    }\n",
              "\n",
              "    .colab-df-convert {\n",
              "      background-color: #E8F0FE;\n",
              "      border: none;\n",
              "      border-radius: 50%;\n",
              "      cursor: pointer;\n",
              "      display: none;\n",
              "      fill: #1967D2;\n",
              "      height: 32px;\n",
              "      padding: 0 0 0 0;\n",
              "      width: 32px;\n",
              "    }\n",
              "\n",
              "    .colab-df-convert:hover {\n",
              "      background-color: #E2EBFA;\n",
              "      box-shadow: 0px 1px 2px rgba(60, 64, 67, 0.3), 0px 1px 3px 1px rgba(60, 64, 67, 0.15);\n",
              "      fill: #174EA6;\n",
              "    }\n",
              "\n",
              "    [theme=dark] .colab-df-convert {\n",
              "      background-color: #3B4455;\n",
              "      fill: #D2E3FC;\n",
              "    }\n",
              "\n",
              "    [theme=dark] .colab-df-convert:hover {\n",
              "      background-color: #434B5C;\n",
              "      box-shadow: 0px 1px 3px 1px rgba(0, 0, 0, 0.15);\n",
              "      filter: drop-shadow(0px 1px 2px rgba(0, 0, 0, 0.3));\n",
              "      fill: #FFFFFF;\n",
              "    }\n",
              "  </style>\n",
              "\n",
              "      <script>\n",
              "        const buttonEl =\n",
              "          document.querySelector('#df-bffc1bc0-0881-402e-a0c9-bf1fed3b6185 button.colab-df-convert');\n",
              "        buttonEl.style.display =\n",
              "          google.colab.kernel.accessAllowed ? 'block' : 'none';\n",
              "\n",
              "        async function convertToInteractive(key) {\n",
              "          const element = document.querySelector('#df-bffc1bc0-0881-402e-a0c9-bf1fed3b6185');\n",
              "          const dataTable =\n",
              "            await google.colab.kernel.invokeFunction('convertToInteractive',\n",
              "                                                     [key], {});\n",
              "          if (!dataTable) return;\n",
              "\n",
              "          const docLinkHtml = 'Like what you see? Visit the ' +\n",
              "            '<a target=\"_blank\" href=https://colab.research.google.com/notebooks/data_table.ipynb>data table notebook</a>'\n",
              "            + ' to learn more about interactive tables.';\n",
              "          element.innerHTML = '';\n",
              "          dataTable['output_type'] = 'display_data';\n",
              "          await google.colab.output.renderOutput(dataTable, element);\n",
              "          const docLink = document.createElement('div');\n",
              "          docLink.innerHTML = docLinkHtml;\n",
              "          element.appendChild(docLink);\n",
              "        }\n",
              "      </script>\n",
              "    </div>\n",
              "  </div>\n",
              "  "
            ]
          },
          "metadata": {},
          "execution_count": 21
        }
      ]
    },
    {
      "cell_type": "code",
      "source": [
        "#remove commas from Population and Users columns values.\n",
        "dataset['Population'] = dataset['Population'].str.replace(',','').astype(int)\n",
        "dataset['Users'] = dataset['Users'].str.replace(',','').astype(int)"
      ],
      "metadata": {
        "id": "QkYApF3z-eCu"
      },
      "execution_count": 22,
      "outputs": []
    },
    {
      "cell_type": "code",
      "source": [
        "dataset.head(10)"
      ],
      "metadata": {
        "colab": {
          "base_uri": "https://localhost:8080/",
          "height": 0
        },
        "id": "Tw0lw0Ik9LO8",
        "outputId": "f33d477c-cb62-4500-cf45-d2f8ca79b5d2"
      },
      "execution_count": 23,
      "outputs": [
        {
          "output_type": "execute_result",
          "data": {
            "text/plain": [
              "   Transaction ID Date of Travel     Company        City  KM Travelled  \\\n",
              "0        10000011     2016-01-07    Pink Cab  ATLANTA GA         30.45   \n",
              "1        10351127     2018-07-20  Yellow Cab  ATLANTA GA         26.19   \n",
              "2        10412921     2018-11-22  Yellow Cab  ATLANTA GA         42.55   \n",
              "3        10000012     2016-01-05    Pink Cab  ATLANTA GA         28.62   \n",
              "4        10320494     2018-04-20  Yellow Cab  ATLANTA GA         36.38   \n",
              "5        10324737     2018-05-03  Yellow Cab  ATLANTA GA          6.18   \n",
              "6        10395626     2018-10-26    Pink Cab  ATLANTA GA         13.39   \n",
              "7        10000013     2016-01-01    Pink Cab  ATLANTA GA          9.04   \n",
              "8        10079404     2016-09-20  Yellow Cab  ATLANTA GA         39.60   \n",
              "9        10186994     2017-06-22  Yellow Cab  ATLANTA GA         18.19   \n",
              "\n",
              "   Price Charged  Cost of Trip  Customer ID Payment_Mode Gender  Age  \\\n",
              "0         370.95      313.6350        29290         Card   Male   28   \n",
              "1         598.70      317.4228        29290         Cash   Male   28   \n",
              "2         792.05      597.4020        29290         Card   Male   28   \n",
              "3         358.52      334.8540        27703         Card   Male   27   \n",
              "4         721.10      467.1192        27703         Card   Male   27   \n",
              "5         138.40       87.5088        27703         Cash   Male   27   \n",
              "6         167.03      141.9340        27703         Card   Male   27   \n",
              "7         125.20       97.6320        28712         Cash   Male   53   \n",
              "8         704.30      494.2080        28712         Card   Male   53   \n",
              "9         365.63      246.6564        28712         Card   Male   53   \n",
              "\n",
              "   Income (USD/Month)  Population  Users  \n",
              "0               10813      814885  24701  \n",
              "1               10813      814885  24701  \n",
              "2               10813      814885  24701  \n",
              "3                9237      814885  24701  \n",
              "4                9237      814885  24701  \n",
              "5                9237      814885  24701  \n",
              "6                9237      814885  24701  \n",
              "7               11242      814885  24701  \n",
              "8               11242      814885  24701  \n",
              "9               11242      814885  24701  "
            ],
            "text/html": [
              "\n",
              "  <div id=\"df-d786ed44-e695-4243-b119-0c1ef537e671\">\n",
              "    <div class=\"colab-df-container\">\n",
              "      <div>\n",
              "<style scoped>\n",
              "    .dataframe tbody tr th:only-of-type {\n",
              "        vertical-align: middle;\n",
              "    }\n",
              "\n",
              "    .dataframe tbody tr th {\n",
              "        vertical-align: top;\n",
              "    }\n",
              "\n",
              "    .dataframe thead th {\n",
              "        text-align: right;\n",
              "    }\n",
              "</style>\n",
              "<table border=\"1\" class=\"dataframe\">\n",
              "  <thead>\n",
              "    <tr style=\"text-align: right;\">\n",
              "      <th></th>\n",
              "      <th>Transaction ID</th>\n",
              "      <th>Date of Travel</th>\n",
              "      <th>Company</th>\n",
              "      <th>City</th>\n",
              "      <th>KM Travelled</th>\n",
              "      <th>Price Charged</th>\n",
              "      <th>Cost of Trip</th>\n",
              "      <th>Customer ID</th>\n",
              "      <th>Payment_Mode</th>\n",
              "      <th>Gender</th>\n",
              "      <th>Age</th>\n",
              "      <th>Income (USD/Month)</th>\n",
              "      <th>Population</th>\n",
              "      <th>Users</th>\n",
              "    </tr>\n",
              "  </thead>\n",
              "  <tbody>\n",
              "    <tr>\n",
              "      <th>0</th>\n",
              "      <td>10000011</td>\n",
              "      <td>2016-01-07</td>\n",
              "      <td>Pink Cab</td>\n",
              "      <td>ATLANTA GA</td>\n",
              "      <td>30.45</td>\n",
              "      <td>370.95</td>\n",
              "      <td>313.6350</td>\n",
              "      <td>29290</td>\n",
              "      <td>Card</td>\n",
              "      <td>Male</td>\n",
              "      <td>28</td>\n",
              "      <td>10813</td>\n",
              "      <td>814885</td>\n",
              "      <td>24701</td>\n",
              "    </tr>\n",
              "    <tr>\n",
              "      <th>1</th>\n",
              "      <td>10351127</td>\n",
              "      <td>2018-07-20</td>\n",
              "      <td>Yellow Cab</td>\n",
              "      <td>ATLANTA GA</td>\n",
              "      <td>26.19</td>\n",
              "      <td>598.70</td>\n",
              "      <td>317.4228</td>\n",
              "      <td>29290</td>\n",
              "      <td>Cash</td>\n",
              "      <td>Male</td>\n",
              "      <td>28</td>\n",
              "      <td>10813</td>\n",
              "      <td>814885</td>\n",
              "      <td>24701</td>\n",
              "    </tr>\n",
              "    <tr>\n",
              "      <th>2</th>\n",
              "      <td>10412921</td>\n",
              "      <td>2018-11-22</td>\n",
              "      <td>Yellow Cab</td>\n",
              "      <td>ATLANTA GA</td>\n",
              "      <td>42.55</td>\n",
              "      <td>792.05</td>\n",
              "      <td>597.4020</td>\n",
              "      <td>29290</td>\n",
              "      <td>Card</td>\n",
              "      <td>Male</td>\n",
              "      <td>28</td>\n",
              "      <td>10813</td>\n",
              "      <td>814885</td>\n",
              "      <td>24701</td>\n",
              "    </tr>\n",
              "    <tr>\n",
              "      <th>3</th>\n",
              "      <td>10000012</td>\n",
              "      <td>2016-01-05</td>\n",
              "      <td>Pink Cab</td>\n",
              "      <td>ATLANTA GA</td>\n",
              "      <td>28.62</td>\n",
              "      <td>358.52</td>\n",
              "      <td>334.8540</td>\n",
              "      <td>27703</td>\n",
              "      <td>Card</td>\n",
              "      <td>Male</td>\n",
              "      <td>27</td>\n",
              "      <td>9237</td>\n",
              "      <td>814885</td>\n",
              "      <td>24701</td>\n",
              "    </tr>\n",
              "    <tr>\n",
              "      <th>4</th>\n",
              "      <td>10320494</td>\n",
              "      <td>2018-04-20</td>\n",
              "      <td>Yellow Cab</td>\n",
              "      <td>ATLANTA GA</td>\n",
              "      <td>36.38</td>\n",
              "      <td>721.10</td>\n",
              "      <td>467.1192</td>\n",
              "      <td>27703</td>\n",
              "      <td>Card</td>\n",
              "      <td>Male</td>\n",
              "      <td>27</td>\n",
              "      <td>9237</td>\n",
              "      <td>814885</td>\n",
              "      <td>24701</td>\n",
              "    </tr>\n",
              "    <tr>\n",
              "      <th>5</th>\n",
              "      <td>10324737</td>\n",
              "      <td>2018-05-03</td>\n",
              "      <td>Yellow Cab</td>\n",
              "      <td>ATLANTA GA</td>\n",
              "      <td>6.18</td>\n",
              "      <td>138.40</td>\n",
              "      <td>87.5088</td>\n",
              "      <td>27703</td>\n",
              "      <td>Cash</td>\n",
              "      <td>Male</td>\n",
              "      <td>27</td>\n",
              "      <td>9237</td>\n",
              "      <td>814885</td>\n",
              "      <td>24701</td>\n",
              "    </tr>\n",
              "    <tr>\n",
              "      <th>6</th>\n",
              "      <td>10395626</td>\n",
              "      <td>2018-10-26</td>\n",
              "      <td>Pink Cab</td>\n",
              "      <td>ATLANTA GA</td>\n",
              "      <td>13.39</td>\n",
              "      <td>167.03</td>\n",
              "      <td>141.9340</td>\n",
              "      <td>27703</td>\n",
              "      <td>Card</td>\n",
              "      <td>Male</td>\n",
              "      <td>27</td>\n",
              "      <td>9237</td>\n",
              "      <td>814885</td>\n",
              "      <td>24701</td>\n",
              "    </tr>\n",
              "    <tr>\n",
              "      <th>7</th>\n",
              "      <td>10000013</td>\n",
              "      <td>2016-01-01</td>\n",
              "      <td>Pink Cab</td>\n",
              "      <td>ATLANTA GA</td>\n",
              "      <td>9.04</td>\n",
              "      <td>125.20</td>\n",
              "      <td>97.6320</td>\n",
              "      <td>28712</td>\n",
              "      <td>Cash</td>\n",
              "      <td>Male</td>\n",
              "      <td>53</td>\n",
              "      <td>11242</td>\n",
              "      <td>814885</td>\n",
              "      <td>24701</td>\n",
              "    </tr>\n",
              "    <tr>\n",
              "      <th>8</th>\n",
              "      <td>10079404</td>\n",
              "      <td>2016-09-20</td>\n",
              "      <td>Yellow Cab</td>\n",
              "      <td>ATLANTA GA</td>\n",
              "      <td>39.60</td>\n",
              "      <td>704.30</td>\n",
              "      <td>494.2080</td>\n",
              "      <td>28712</td>\n",
              "      <td>Card</td>\n",
              "      <td>Male</td>\n",
              "      <td>53</td>\n",
              "      <td>11242</td>\n",
              "      <td>814885</td>\n",
              "      <td>24701</td>\n",
              "    </tr>\n",
              "    <tr>\n",
              "      <th>9</th>\n",
              "      <td>10186994</td>\n",
              "      <td>2017-06-22</td>\n",
              "      <td>Yellow Cab</td>\n",
              "      <td>ATLANTA GA</td>\n",
              "      <td>18.19</td>\n",
              "      <td>365.63</td>\n",
              "      <td>246.6564</td>\n",
              "      <td>28712</td>\n",
              "      <td>Card</td>\n",
              "      <td>Male</td>\n",
              "      <td>53</td>\n",
              "      <td>11242</td>\n",
              "      <td>814885</td>\n",
              "      <td>24701</td>\n",
              "    </tr>\n",
              "  </tbody>\n",
              "</table>\n",
              "</div>\n",
              "      <button class=\"colab-df-convert\" onclick=\"convertToInteractive('df-d786ed44-e695-4243-b119-0c1ef537e671')\"\n",
              "              title=\"Convert this dataframe to an interactive table.\"\n",
              "              style=\"display:none;\">\n",
              "        \n",
              "  <svg xmlns=\"http://www.w3.org/2000/svg\" height=\"24px\"viewBox=\"0 0 24 24\"\n",
              "       width=\"24px\">\n",
              "    <path d=\"M0 0h24v24H0V0z\" fill=\"none\"/>\n",
              "    <path d=\"M18.56 5.44l.94 2.06.94-2.06 2.06-.94-2.06-.94-.94-2.06-.94 2.06-2.06.94zm-11 1L8.5 8.5l.94-2.06 2.06-.94-2.06-.94L8.5 2.5l-.94 2.06-2.06.94zm10 10l.94 2.06.94-2.06 2.06-.94-2.06-.94-.94-2.06-.94 2.06-2.06.94z\"/><path d=\"M17.41 7.96l-1.37-1.37c-.4-.4-.92-.59-1.43-.59-.52 0-1.04.2-1.43.59L10.3 9.45l-7.72 7.72c-.78.78-.78 2.05 0 2.83L4 21.41c.39.39.9.59 1.41.59.51 0 1.02-.2 1.41-.59l7.78-7.78 2.81-2.81c.8-.78.8-2.07 0-2.86zM5.41 20L4 18.59l7.72-7.72 1.47 1.35L5.41 20z\"/>\n",
              "  </svg>\n",
              "      </button>\n",
              "      \n",
              "  <style>\n",
              "    .colab-df-container {\n",
              "      display:flex;\n",
              "      flex-wrap:wrap;\n",
              "      gap: 12px;\n",
              "    }\n",
              "\n",
              "    .colab-df-convert {\n",
              "      background-color: #E8F0FE;\n",
              "      border: none;\n",
              "      border-radius: 50%;\n",
              "      cursor: pointer;\n",
              "      display: none;\n",
              "      fill: #1967D2;\n",
              "      height: 32px;\n",
              "      padding: 0 0 0 0;\n",
              "      width: 32px;\n",
              "    }\n",
              "\n",
              "    .colab-df-convert:hover {\n",
              "      background-color: #E2EBFA;\n",
              "      box-shadow: 0px 1px 2px rgba(60, 64, 67, 0.3), 0px 1px 3px 1px rgba(60, 64, 67, 0.15);\n",
              "      fill: #174EA6;\n",
              "    }\n",
              "\n",
              "    [theme=dark] .colab-df-convert {\n",
              "      background-color: #3B4455;\n",
              "      fill: #D2E3FC;\n",
              "    }\n",
              "\n",
              "    [theme=dark] .colab-df-convert:hover {\n",
              "      background-color: #434B5C;\n",
              "      box-shadow: 0px 1px 3px 1px rgba(0, 0, 0, 0.15);\n",
              "      filter: drop-shadow(0px 1px 2px rgba(0, 0, 0, 0.3));\n",
              "      fill: #FFFFFF;\n",
              "    }\n",
              "  </style>\n",
              "\n",
              "      <script>\n",
              "        const buttonEl =\n",
              "          document.querySelector('#df-d786ed44-e695-4243-b119-0c1ef537e671 button.colab-df-convert');\n",
              "        buttonEl.style.display =\n",
              "          google.colab.kernel.accessAllowed ? 'block' : 'none';\n",
              "\n",
              "        async function convertToInteractive(key) {\n",
              "          const element = document.querySelector('#df-d786ed44-e695-4243-b119-0c1ef537e671');\n",
              "          const dataTable =\n",
              "            await google.colab.kernel.invokeFunction('convertToInteractive',\n",
              "                                                     [key], {});\n",
              "          if (!dataTable) return;\n",
              "\n",
              "          const docLinkHtml = 'Like what you see? Visit the ' +\n",
              "            '<a target=\"_blank\" href=https://colab.research.google.com/notebooks/data_table.ipynb>data table notebook</a>'\n",
              "            + ' to learn more about interactive tables.';\n",
              "          element.innerHTML = '';\n",
              "          dataTable['output_type'] = 'display_data';\n",
              "          await google.colab.output.renderOutput(dataTable, element);\n",
              "          const docLink = document.createElement('div');\n",
              "          docLink.innerHTML = docLinkHtml;\n",
              "          element.appendChild(docLink);\n",
              "        }\n",
              "      </script>\n",
              "    </div>\n",
              "  </div>\n",
              "  "
            ]
          },
          "metadata": {},
          "execution_count": 23
        }
      ]
    },
    {
      "cell_type": "code",
      "source": [
        "dataset['Profit'] = dataset['Price Charged'] - dataset['Cost of Trip']"
      ],
      "metadata": {
        "id": "BEgdp0Ye_JwA"
      },
      "execution_count": 24,
      "outputs": []
    },
    {
      "cell_type": "code",
      "source": [
        "dataset.head(10)"
      ],
      "metadata": {
        "colab": {
          "base_uri": "https://localhost:8080/",
          "height": 0
        },
        "id": "qJjWoot2_dEz",
        "outputId": "3fb6c3fa-1cda-42ad-b578-4e3c69139164"
      },
      "execution_count": 25,
      "outputs": [
        {
          "output_type": "execute_result",
          "data": {
            "text/plain": [
              "   Transaction ID Date of Travel     Company        City  KM Travelled  \\\n",
              "0        10000011     2016-01-07    Pink Cab  ATLANTA GA         30.45   \n",
              "1        10351127     2018-07-20  Yellow Cab  ATLANTA GA         26.19   \n",
              "2        10412921     2018-11-22  Yellow Cab  ATLANTA GA         42.55   \n",
              "3        10000012     2016-01-05    Pink Cab  ATLANTA GA         28.62   \n",
              "4        10320494     2018-04-20  Yellow Cab  ATLANTA GA         36.38   \n",
              "5        10324737     2018-05-03  Yellow Cab  ATLANTA GA          6.18   \n",
              "6        10395626     2018-10-26    Pink Cab  ATLANTA GA         13.39   \n",
              "7        10000013     2016-01-01    Pink Cab  ATLANTA GA          9.04   \n",
              "8        10079404     2016-09-20  Yellow Cab  ATLANTA GA         39.60   \n",
              "9        10186994     2017-06-22  Yellow Cab  ATLANTA GA         18.19   \n",
              "\n",
              "   Price Charged  Cost of Trip  Customer ID Payment_Mode Gender  Age  \\\n",
              "0         370.95      313.6350        29290         Card   Male   28   \n",
              "1         598.70      317.4228        29290         Cash   Male   28   \n",
              "2         792.05      597.4020        29290         Card   Male   28   \n",
              "3         358.52      334.8540        27703         Card   Male   27   \n",
              "4         721.10      467.1192        27703         Card   Male   27   \n",
              "5         138.40       87.5088        27703         Cash   Male   27   \n",
              "6         167.03      141.9340        27703         Card   Male   27   \n",
              "7         125.20       97.6320        28712         Cash   Male   53   \n",
              "8         704.30      494.2080        28712         Card   Male   53   \n",
              "9         365.63      246.6564        28712         Card   Male   53   \n",
              "\n",
              "   Income (USD/Month)  Population  Users    Profit  \n",
              "0               10813      814885  24701   57.3150  \n",
              "1               10813      814885  24701  281.2772  \n",
              "2               10813      814885  24701  194.6480  \n",
              "3                9237      814885  24701   23.6660  \n",
              "4                9237      814885  24701  253.9808  \n",
              "5                9237      814885  24701   50.8912  \n",
              "6                9237      814885  24701   25.0960  \n",
              "7               11242      814885  24701   27.5680  \n",
              "8               11242      814885  24701  210.0920  \n",
              "9               11242      814885  24701  118.9736  "
            ],
            "text/html": [
              "\n",
              "  <div id=\"df-5a566ae4-328c-46a7-890e-bd3a63edb768\">\n",
              "    <div class=\"colab-df-container\">\n",
              "      <div>\n",
              "<style scoped>\n",
              "    .dataframe tbody tr th:only-of-type {\n",
              "        vertical-align: middle;\n",
              "    }\n",
              "\n",
              "    .dataframe tbody tr th {\n",
              "        vertical-align: top;\n",
              "    }\n",
              "\n",
              "    .dataframe thead th {\n",
              "        text-align: right;\n",
              "    }\n",
              "</style>\n",
              "<table border=\"1\" class=\"dataframe\">\n",
              "  <thead>\n",
              "    <tr style=\"text-align: right;\">\n",
              "      <th></th>\n",
              "      <th>Transaction ID</th>\n",
              "      <th>Date of Travel</th>\n",
              "      <th>Company</th>\n",
              "      <th>City</th>\n",
              "      <th>KM Travelled</th>\n",
              "      <th>Price Charged</th>\n",
              "      <th>Cost of Trip</th>\n",
              "      <th>Customer ID</th>\n",
              "      <th>Payment_Mode</th>\n",
              "      <th>Gender</th>\n",
              "      <th>Age</th>\n",
              "      <th>Income (USD/Month)</th>\n",
              "      <th>Population</th>\n",
              "      <th>Users</th>\n",
              "      <th>Profit</th>\n",
              "    </tr>\n",
              "  </thead>\n",
              "  <tbody>\n",
              "    <tr>\n",
              "      <th>0</th>\n",
              "      <td>10000011</td>\n",
              "      <td>2016-01-07</td>\n",
              "      <td>Pink Cab</td>\n",
              "      <td>ATLANTA GA</td>\n",
              "      <td>30.45</td>\n",
              "      <td>370.95</td>\n",
              "      <td>313.6350</td>\n",
              "      <td>29290</td>\n",
              "      <td>Card</td>\n",
              "      <td>Male</td>\n",
              "      <td>28</td>\n",
              "      <td>10813</td>\n",
              "      <td>814885</td>\n",
              "      <td>24701</td>\n",
              "      <td>57.3150</td>\n",
              "    </tr>\n",
              "    <tr>\n",
              "      <th>1</th>\n",
              "      <td>10351127</td>\n",
              "      <td>2018-07-20</td>\n",
              "      <td>Yellow Cab</td>\n",
              "      <td>ATLANTA GA</td>\n",
              "      <td>26.19</td>\n",
              "      <td>598.70</td>\n",
              "      <td>317.4228</td>\n",
              "      <td>29290</td>\n",
              "      <td>Cash</td>\n",
              "      <td>Male</td>\n",
              "      <td>28</td>\n",
              "      <td>10813</td>\n",
              "      <td>814885</td>\n",
              "      <td>24701</td>\n",
              "      <td>281.2772</td>\n",
              "    </tr>\n",
              "    <tr>\n",
              "      <th>2</th>\n",
              "      <td>10412921</td>\n",
              "      <td>2018-11-22</td>\n",
              "      <td>Yellow Cab</td>\n",
              "      <td>ATLANTA GA</td>\n",
              "      <td>42.55</td>\n",
              "      <td>792.05</td>\n",
              "      <td>597.4020</td>\n",
              "      <td>29290</td>\n",
              "      <td>Card</td>\n",
              "      <td>Male</td>\n",
              "      <td>28</td>\n",
              "      <td>10813</td>\n",
              "      <td>814885</td>\n",
              "      <td>24701</td>\n",
              "      <td>194.6480</td>\n",
              "    </tr>\n",
              "    <tr>\n",
              "      <th>3</th>\n",
              "      <td>10000012</td>\n",
              "      <td>2016-01-05</td>\n",
              "      <td>Pink Cab</td>\n",
              "      <td>ATLANTA GA</td>\n",
              "      <td>28.62</td>\n",
              "      <td>358.52</td>\n",
              "      <td>334.8540</td>\n",
              "      <td>27703</td>\n",
              "      <td>Card</td>\n",
              "      <td>Male</td>\n",
              "      <td>27</td>\n",
              "      <td>9237</td>\n",
              "      <td>814885</td>\n",
              "      <td>24701</td>\n",
              "      <td>23.6660</td>\n",
              "    </tr>\n",
              "    <tr>\n",
              "      <th>4</th>\n",
              "      <td>10320494</td>\n",
              "      <td>2018-04-20</td>\n",
              "      <td>Yellow Cab</td>\n",
              "      <td>ATLANTA GA</td>\n",
              "      <td>36.38</td>\n",
              "      <td>721.10</td>\n",
              "      <td>467.1192</td>\n",
              "      <td>27703</td>\n",
              "      <td>Card</td>\n",
              "      <td>Male</td>\n",
              "      <td>27</td>\n",
              "      <td>9237</td>\n",
              "      <td>814885</td>\n",
              "      <td>24701</td>\n",
              "      <td>253.9808</td>\n",
              "    </tr>\n",
              "    <tr>\n",
              "      <th>5</th>\n",
              "      <td>10324737</td>\n",
              "      <td>2018-05-03</td>\n",
              "      <td>Yellow Cab</td>\n",
              "      <td>ATLANTA GA</td>\n",
              "      <td>6.18</td>\n",
              "      <td>138.40</td>\n",
              "      <td>87.5088</td>\n",
              "      <td>27703</td>\n",
              "      <td>Cash</td>\n",
              "      <td>Male</td>\n",
              "      <td>27</td>\n",
              "      <td>9237</td>\n",
              "      <td>814885</td>\n",
              "      <td>24701</td>\n",
              "      <td>50.8912</td>\n",
              "    </tr>\n",
              "    <tr>\n",
              "      <th>6</th>\n",
              "      <td>10395626</td>\n",
              "      <td>2018-10-26</td>\n",
              "      <td>Pink Cab</td>\n",
              "      <td>ATLANTA GA</td>\n",
              "      <td>13.39</td>\n",
              "      <td>167.03</td>\n",
              "      <td>141.9340</td>\n",
              "      <td>27703</td>\n",
              "      <td>Card</td>\n",
              "      <td>Male</td>\n",
              "      <td>27</td>\n",
              "      <td>9237</td>\n",
              "      <td>814885</td>\n",
              "      <td>24701</td>\n",
              "      <td>25.0960</td>\n",
              "    </tr>\n",
              "    <tr>\n",
              "      <th>7</th>\n",
              "      <td>10000013</td>\n",
              "      <td>2016-01-01</td>\n",
              "      <td>Pink Cab</td>\n",
              "      <td>ATLANTA GA</td>\n",
              "      <td>9.04</td>\n",
              "      <td>125.20</td>\n",
              "      <td>97.6320</td>\n",
              "      <td>28712</td>\n",
              "      <td>Cash</td>\n",
              "      <td>Male</td>\n",
              "      <td>53</td>\n",
              "      <td>11242</td>\n",
              "      <td>814885</td>\n",
              "      <td>24701</td>\n",
              "      <td>27.5680</td>\n",
              "    </tr>\n",
              "    <tr>\n",
              "      <th>8</th>\n",
              "      <td>10079404</td>\n",
              "      <td>2016-09-20</td>\n",
              "      <td>Yellow Cab</td>\n",
              "      <td>ATLANTA GA</td>\n",
              "      <td>39.60</td>\n",
              "      <td>704.30</td>\n",
              "      <td>494.2080</td>\n",
              "      <td>28712</td>\n",
              "      <td>Card</td>\n",
              "      <td>Male</td>\n",
              "      <td>53</td>\n",
              "      <td>11242</td>\n",
              "      <td>814885</td>\n",
              "      <td>24701</td>\n",
              "      <td>210.0920</td>\n",
              "    </tr>\n",
              "    <tr>\n",
              "      <th>9</th>\n",
              "      <td>10186994</td>\n",
              "      <td>2017-06-22</td>\n",
              "      <td>Yellow Cab</td>\n",
              "      <td>ATLANTA GA</td>\n",
              "      <td>18.19</td>\n",
              "      <td>365.63</td>\n",
              "      <td>246.6564</td>\n",
              "      <td>28712</td>\n",
              "      <td>Card</td>\n",
              "      <td>Male</td>\n",
              "      <td>53</td>\n",
              "      <td>11242</td>\n",
              "      <td>814885</td>\n",
              "      <td>24701</td>\n",
              "      <td>118.9736</td>\n",
              "    </tr>\n",
              "  </tbody>\n",
              "</table>\n",
              "</div>\n",
              "      <button class=\"colab-df-convert\" onclick=\"convertToInteractive('df-5a566ae4-328c-46a7-890e-bd3a63edb768')\"\n",
              "              title=\"Convert this dataframe to an interactive table.\"\n",
              "              style=\"display:none;\">\n",
              "        \n",
              "  <svg xmlns=\"http://www.w3.org/2000/svg\" height=\"24px\"viewBox=\"0 0 24 24\"\n",
              "       width=\"24px\">\n",
              "    <path d=\"M0 0h24v24H0V0z\" fill=\"none\"/>\n",
              "    <path d=\"M18.56 5.44l.94 2.06.94-2.06 2.06-.94-2.06-.94-.94-2.06-.94 2.06-2.06.94zm-11 1L8.5 8.5l.94-2.06 2.06-.94-2.06-.94L8.5 2.5l-.94 2.06-2.06.94zm10 10l.94 2.06.94-2.06 2.06-.94-2.06-.94-.94-2.06-.94 2.06-2.06.94z\"/><path d=\"M17.41 7.96l-1.37-1.37c-.4-.4-.92-.59-1.43-.59-.52 0-1.04.2-1.43.59L10.3 9.45l-7.72 7.72c-.78.78-.78 2.05 0 2.83L4 21.41c.39.39.9.59 1.41.59.51 0 1.02-.2 1.41-.59l7.78-7.78 2.81-2.81c.8-.78.8-2.07 0-2.86zM5.41 20L4 18.59l7.72-7.72 1.47 1.35L5.41 20z\"/>\n",
              "  </svg>\n",
              "      </button>\n",
              "      \n",
              "  <style>\n",
              "    .colab-df-container {\n",
              "      display:flex;\n",
              "      flex-wrap:wrap;\n",
              "      gap: 12px;\n",
              "    }\n",
              "\n",
              "    .colab-df-convert {\n",
              "      background-color: #E8F0FE;\n",
              "      border: none;\n",
              "      border-radius: 50%;\n",
              "      cursor: pointer;\n",
              "      display: none;\n",
              "      fill: #1967D2;\n",
              "      height: 32px;\n",
              "      padding: 0 0 0 0;\n",
              "      width: 32px;\n",
              "    }\n",
              "\n",
              "    .colab-df-convert:hover {\n",
              "      background-color: #E2EBFA;\n",
              "      box-shadow: 0px 1px 2px rgba(60, 64, 67, 0.3), 0px 1px 3px 1px rgba(60, 64, 67, 0.15);\n",
              "      fill: #174EA6;\n",
              "    }\n",
              "\n",
              "    [theme=dark] .colab-df-convert {\n",
              "      background-color: #3B4455;\n",
              "      fill: #D2E3FC;\n",
              "    }\n",
              "\n",
              "    [theme=dark] .colab-df-convert:hover {\n",
              "      background-color: #434B5C;\n",
              "      box-shadow: 0px 1px 3px 1px rgba(0, 0, 0, 0.15);\n",
              "      filter: drop-shadow(0px 1px 2px rgba(0, 0, 0, 0.3));\n",
              "      fill: #FFFFFF;\n",
              "    }\n",
              "  </style>\n",
              "\n",
              "      <script>\n",
              "        const buttonEl =\n",
              "          document.querySelector('#df-5a566ae4-328c-46a7-890e-bd3a63edb768 button.colab-df-convert');\n",
              "        buttonEl.style.display =\n",
              "          google.colab.kernel.accessAllowed ? 'block' : 'none';\n",
              "\n",
              "        async function convertToInteractive(key) {\n",
              "          const element = document.querySelector('#df-5a566ae4-328c-46a7-890e-bd3a63edb768');\n",
              "          const dataTable =\n",
              "            await google.colab.kernel.invokeFunction('convertToInteractive',\n",
              "                                                     [key], {});\n",
              "          if (!dataTable) return;\n",
              "\n",
              "          const docLinkHtml = 'Like what you see? Visit the ' +\n",
              "            '<a target=\"_blank\" href=https://colab.research.google.com/notebooks/data_table.ipynb>data table notebook</a>'\n",
              "            + ' to learn more about interactive tables.';\n",
              "          element.innerHTML = '';\n",
              "          dataTable['output_type'] = 'display_data';\n",
              "          await google.colab.output.renderOutput(dataTable, element);\n",
              "          const docLink = document.createElement('div');\n",
              "          docLink.innerHTML = docLinkHtml;\n",
              "          element.appendChild(docLink);\n",
              "        }\n",
              "      </script>\n",
              "    </div>\n",
              "  </div>\n",
              "  "
            ]
          },
          "metadata": {},
          "execution_count": 25
        }
      ]
    },
    {
      "cell_type": "code",
      "source": [
        "dataset.describe()"
      ],
      "metadata": {
        "colab": {
          "base_uri": "https://localhost:8080/",
          "height": 0
        },
        "id": "FZnzEXvO_01P",
        "outputId": "f5c8a0db-df36-4a0f-cae9-c0cf28689844"
      },
      "execution_count": 26,
      "outputs": [
        {
          "output_type": "execute_result",
          "data": {
            "text/plain": [
              "       Transaction ID   KM Travelled  Price Charged   Cost of Trip  \\\n",
              "count    3.593920e+05  359392.000000  359392.000000  359392.000000   \n",
              "mean     1.022076e+07      22.567254     423.443311     286.190113   \n",
              "std      1.268058e+05      12.233526     274.378911     157.993661   \n",
              "min      1.000001e+07       1.900000      15.600000      19.000000   \n",
              "25%      1.011081e+07      12.000000     206.437500     151.200000   \n",
              "50%      1.022104e+07      22.440000     386.360000     282.480000   \n",
              "75%      1.033094e+07      32.960000     583.660000     413.683200   \n",
              "max      1.044011e+07      48.000000    2048.030000     691.200000   \n",
              "\n",
              "         Customer ID            Age  Income (USD/Month)    Population  \\\n",
              "count  359392.000000  359392.000000       359392.000000  3.593920e+05   \n",
              "mean    19191.652115      35.336705        15048.822937  3.132198e+06   \n",
              "std     21012.412463      12.594234         7969.409482  3.315194e+06   \n",
              "min         1.000000      18.000000         2000.000000  2.489680e+05   \n",
              "25%      2705.000000      25.000000         8424.000000  6.712380e+05   \n",
              "50%      7459.000000      33.000000        14685.000000  1.595037e+06   \n",
              "75%     36078.000000      42.000000        21035.000000  8.405837e+06   \n",
              "max     60000.000000      65.000000        35000.000000  8.405837e+06   \n",
              "\n",
              "               Users         Profit  \n",
              "count  359392.000000  359392.000000  \n",
              "mean   158365.582267     137.253198  \n",
              "std    100850.051020     160.311840  \n",
              "min      3643.000000    -220.060000  \n",
              "25%     80021.000000      28.012000  \n",
              "50%    144132.000000      81.962000  \n",
              "75%    302149.000000     190.030000  \n",
              "max    302149.000000    1463.966000  "
            ],
            "text/html": [
              "\n",
              "  <div id=\"df-b12ac3f0-a3f7-482b-80d9-918120c888b8\">\n",
              "    <div class=\"colab-df-container\">\n",
              "      <div>\n",
              "<style scoped>\n",
              "    .dataframe tbody tr th:only-of-type {\n",
              "        vertical-align: middle;\n",
              "    }\n",
              "\n",
              "    .dataframe tbody tr th {\n",
              "        vertical-align: top;\n",
              "    }\n",
              "\n",
              "    .dataframe thead th {\n",
              "        text-align: right;\n",
              "    }\n",
              "</style>\n",
              "<table border=\"1\" class=\"dataframe\">\n",
              "  <thead>\n",
              "    <tr style=\"text-align: right;\">\n",
              "      <th></th>\n",
              "      <th>Transaction ID</th>\n",
              "      <th>KM Travelled</th>\n",
              "      <th>Price Charged</th>\n",
              "      <th>Cost of Trip</th>\n",
              "      <th>Customer ID</th>\n",
              "      <th>Age</th>\n",
              "      <th>Income (USD/Month)</th>\n",
              "      <th>Population</th>\n",
              "      <th>Users</th>\n",
              "      <th>Profit</th>\n",
              "    </tr>\n",
              "  </thead>\n",
              "  <tbody>\n",
              "    <tr>\n",
              "      <th>count</th>\n",
              "      <td>3.593920e+05</td>\n",
              "      <td>359392.000000</td>\n",
              "      <td>359392.000000</td>\n",
              "      <td>359392.000000</td>\n",
              "      <td>359392.000000</td>\n",
              "      <td>359392.000000</td>\n",
              "      <td>359392.000000</td>\n",
              "      <td>3.593920e+05</td>\n",
              "      <td>359392.000000</td>\n",
              "      <td>359392.000000</td>\n",
              "    </tr>\n",
              "    <tr>\n",
              "      <th>mean</th>\n",
              "      <td>1.022076e+07</td>\n",
              "      <td>22.567254</td>\n",
              "      <td>423.443311</td>\n",
              "      <td>286.190113</td>\n",
              "      <td>19191.652115</td>\n",
              "      <td>35.336705</td>\n",
              "      <td>15048.822937</td>\n",
              "      <td>3.132198e+06</td>\n",
              "      <td>158365.582267</td>\n",
              "      <td>137.253198</td>\n",
              "    </tr>\n",
              "    <tr>\n",
              "      <th>std</th>\n",
              "      <td>1.268058e+05</td>\n",
              "      <td>12.233526</td>\n",
              "      <td>274.378911</td>\n",
              "      <td>157.993661</td>\n",
              "      <td>21012.412463</td>\n",
              "      <td>12.594234</td>\n",
              "      <td>7969.409482</td>\n",
              "      <td>3.315194e+06</td>\n",
              "      <td>100850.051020</td>\n",
              "      <td>160.311840</td>\n",
              "    </tr>\n",
              "    <tr>\n",
              "      <th>min</th>\n",
              "      <td>1.000001e+07</td>\n",
              "      <td>1.900000</td>\n",
              "      <td>15.600000</td>\n",
              "      <td>19.000000</td>\n",
              "      <td>1.000000</td>\n",
              "      <td>18.000000</td>\n",
              "      <td>2000.000000</td>\n",
              "      <td>2.489680e+05</td>\n",
              "      <td>3643.000000</td>\n",
              "      <td>-220.060000</td>\n",
              "    </tr>\n",
              "    <tr>\n",
              "      <th>25%</th>\n",
              "      <td>1.011081e+07</td>\n",
              "      <td>12.000000</td>\n",
              "      <td>206.437500</td>\n",
              "      <td>151.200000</td>\n",
              "      <td>2705.000000</td>\n",
              "      <td>25.000000</td>\n",
              "      <td>8424.000000</td>\n",
              "      <td>6.712380e+05</td>\n",
              "      <td>80021.000000</td>\n",
              "      <td>28.012000</td>\n",
              "    </tr>\n",
              "    <tr>\n",
              "      <th>50%</th>\n",
              "      <td>1.022104e+07</td>\n",
              "      <td>22.440000</td>\n",
              "      <td>386.360000</td>\n",
              "      <td>282.480000</td>\n",
              "      <td>7459.000000</td>\n",
              "      <td>33.000000</td>\n",
              "      <td>14685.000000</td>\n",
              "      <td>1.595037e+06</td>\n",
              "      <td>144132.000000</td>\n",
              "      <td>81.962000</td>\n",
              "    </tr>\n",
              "    <tr>\n",
              "      <th>75%</th>\n",
              "      <td>1.033094e+07</td>\n",
              "      <td>32.960000</td>\n",
              "      <td>583.660000</td>\n",
              "      <td>413.683200</td>\n",
              "      <td>36078.000000</td>\n",
              "      <td>42.000000</td>\n",
              "      <td>21035.000000</td>\n",
              "      <td>8.405837e+06</td>\n",
              "      <td>302149.000000</td>\n",
              "      <td>190.030000</td>\n",
              "    </tr>\n",
              "    <tr>\n",
              "      <th>max</th>\n",
              "      <td>1.044011e+07</td>\n",
              "      <td>48.000000</td>\n",
              "      <td>2048.030000</td>\n",
              "      <td>691.200000</td>\n",
              "      <td>60000.000000</td>\n",
              "      <td>65.000000</td>\n",
              "      <td>35000.000000</td>\n",
              "      <td>8.405837e+06</td>\n",
              "      <td>302149.000000</td>\n",
              "      <td>1463.966000</td>\n",
              "    </tr>\n",
              "  </tbody>\n",
              "</table>\n",
              "</div>\n",
              "      <button class=\"colab-df-convert\" onclick=\"convertToInteractive('df-b12ac3f0-a3f7-482b-80d9-918120c888b8')\"\n",
              "              title=\"Convert this dataframe to an interactive table.\"\n",
              "              style=\"display:none;\">\n",
              "        \n",
              "  <svg xmlns=\"http://www.w3.org/2000/svg\" height=\"24px\"viewBox=\"0 0 24 24\"\n",
              "       width=\"24px\">\n",
              "    <path d=\"M0 0h24v24H0V0z\" fill=\"none\"/>\n",
              "    <path d=\"M18.56 5.44l.94 2.06.94-2.06 2.06-.94-2.06-.94-.94-2.06-.94 2.06-2.06.94zm-11 1L8.5 8.5l.94-2.06 2.06-.94-2.06-.94L8.5 2.5l-.94 2.06-2.06.94zm10 10l.94 2.06.94-2.06 2.06-.94-2.06-.94-.94-2.06-.94 2.06-2.06.94z\"/><path d=\"M17.41 7.96l-1.37-1.37c-.4-.4-.92-.59-1.43-.59-.52 0-1.04.2-1.43.59L10.3 9.45l-7.72 7.72c-.78.78-.78 2.05 0 2.83L4 21.41c.39.39.9.59 1.41.59.51 0 1.02-.2 1.41-.59l7.78-7.78 2.81-2.81c.8-.78.8-2.07 0-2.86zM5.41 20L4 18.59l7.72-7.72 1.47 1.35L5.41 20z\"/>\n",
              "  </svg>\n",
              "      </button>\n",
              "      \n",
              "  <style>\n",
              "    .colab-df-container {\n",
              "      display:flex;\n",
              "      flex-wrap:wrap;\n",
              "      gap: 12px;\n",
              "    }\n",
              "\n",
              "    .colab-df-convert {\n",
              "      background-color: #E8F0FE;\n",
              "      border: none;\n",
              "      border-radius: 50%;\n",
              "      cursor: pointer;\n",
              "      display: none;\n",
              "      fill: #1967D2;\n",
              "      height: 32px;\n",
              "      padding: 0 0 0 0;\n",
              "      width: 32px;\n",
              "    }\n",
              "\n",
              "    .colab-df-convert:hover {\n",
              "      background-color: #E2EBFA;\n",
              "      box-shadow: 0px 1px 2px rgba(60, 64, 67, 0.3), 0px 1px 3px 1px rgba(60, 64, 67, 0.15);\n",
              "      fill: #174EA6;\n",
              "    }\n",
              "\n",
              "    [theme=dark] .colab-df-convert {\n",
              "      background-color: #3B4455;\n",
              "      fill: #D2E3FC;\n",
              "    }\n",
              "\n",
              "    [theme=dark] .colab-df-convert:hover {\n",
              "      background-color: #434B5C;\n",
              "      box-shadow: 0px 1px 3px 1px rgba(0, 0, 0, 0.15);\n",
              "      filter: drop-shadow(0px 1px 2px rgba(0, 0, 0, 0.3));\n",
              "      fill: #FFFFFF;\n",
              "    }\n",
              "  </style>\n",
              "\n",
              "      <script>\n",
              "        const buttonEl =\n",
              "          document.querySelector('#df-b12ac3f0-a3f7-482b-80d9-918120c888b8 button.colab-df-convert');\n",
              "        buttonEl.style.display =\n",
              "          google.colab.kernel.accessAllowed ? 'block' : 'none';\n",
              "\n",
              "        async function convertToInteractive(key) {\n",
              "          const element = document.querySelector('#df-b12ac3f0-a3f7-482b-80d9-918120c888b8');\n",
              "          const dataTable =\n",
              "            await google.colab.kernel.invokeFunction('convertToInteractive',\n",
              "                                                     [key], {});\n",
              "          if (!dataTable) return;\n",
              "\n",
              "          const docLinkHtml = 'Like what you see? Visit the ' +\n",
              "            '<a target=\"_blank\" href=https://colab.research.google.com/notebooks/data_table.ipynb>data table notebook</a>'\n",
              "            + ' to learn more about interactive tables.';\n",
              "          element.innerHTML = '';\n",
              "          dataTable['output_type'] = 'display_data';\n",
              "          await google.colab.output.renderOutput(dataTable, element);\n",
              "          const docLink = document.createElement('div');\n",
              "          docLink.innerHTML = docLinkHtml;\n",
              "          element.appendChild(docLink);\n",
              "        }\n",
              "      </script>\n",
              "    </div>\n",
              "  </div>\n",
              "  "
            ]
          },
          "metadata": {},
          "execution_count": 26
        }
      ]
    },
    {
      "cell_type": "markdown",
      "source": [
        "# QUESTION1: Which company earns more profit"
      ],
      "metadata": {
        "id": "F3CQzKTOL4tc"
      }
    },
    {
      "cell_type": "code",
      "source": [
        "#calculate the total profit of each company\n",
        "profit_sum = dataset.groupby('Company')['Profit'].sum()\n",
        "profit_sum"
      ],
      "metadata": {
        "colab": {
          "base_uri": "https://localhost:8080/"
        },
        "id": "QLHk-iprLq9V",
        "outputId": "3b54a849-68f0-45bb-f096-a9dd45f5e9da"
      },
      "execution_count": 27,
      "outputs": [
        {
          "output_type": "execute_result",
          "data": {
            "text/plain": [
              "Company\n",
              "Pink Cab      5.307328e+06\n",
              "Yellow Cab    4.402037e+07\n",
              "Name: Profit, dtype: float64"
            ]
          },
          "metadata": {},
          "execution_count": 27
        }
      ]
    },
    {
      "cell_type": "code",
      "source": [
        "Company = ['Pink Cab','Yellow Cab']\n",
        "Total_profit = [5.307328e+06, 4.402037e+07]"
      ],
      "metadata": {
        "id": "xAbgfRd_jExK"
      },
      "execution_count": 28,
      "outputs": []
    },
    {
      "cell_type": "code",
      "source": [
        "plt.bar(Company,Total_profit,color = ['Pink','Yellow'])\n",
        "plt.title('Company Vs Total_profit')\n",
        "plt.xlabel('Company')\n",
        "plt.ylabel('Total_profit')\n",
        "plt.show()"
      ],
      "metadata": {
        "colab": {
          "base_uri": "https://localhost:8080/",
          "height": 295
        },
        "id": "kWiUiz8hjP5u",
        "outputId": "6ed2424b-f35a-47ba-fb26-1da40b27428f"
      },
      "execution_count": 29,
      "outputs": [
        {
          "output_type": "display_data",
          "data": {
            "text/plain": [
              "<Figure size 432x288 with 1 Axes>"
            ],
            "image/png": "[encoded data removed]"
          },
          "metadata": {
            "needs_background": "light"
          }
        }
      ]
    },
    {
      "cell_type": "code",
      "source": [
        "#display the total profit per city for each company\n",
        "profit_sum_city = dataset.groupby(['City','Company'])['Profit'].sum()\n",
        "profit_sum_city"
      ],
      "metadata": {
        "colab": {
          "base_uri": "https://localhost:8080/"
        },
        "id": "vR4_LwHOfTJS",
        "outputId": "f60bffa4-2942-4dd5-a58e-1c12b20d3359"
      },
      "execution_count": 30,
      "outputs": [
        {
          "output_type": "execute_result",
          "data": {
            "text/plain": [
              "City            Company   \n",
              "ATLANTA GA      Pink Cab      9.605008e+04\n",
              "                Yellow Cab    7.463828e+05\n",
              "AUSTIN TX       Pink Cab      1.474453e+05\n",
              "                Yellow Cab    3.792557e+05\n",
              "BOSTON MA       Pink Cab      2.620017e+05\n",
              "                Yellow Cab    1.506718e+06\n",
              "CHICAGO IL      Pink Cab      3.187225e+05\n",
              "                Yellow Cab    3.068591e+06\n",
              "DALLAS TX       Pink Cab      2.473011e+04\n",
              "                Yellow Cab    1.104003e+06\n",
              "DENVER CO       Pink Cab      4.058494e+04\n",
              "                Yellow Cab    3.570001e+05\n",
              "LOS ANGELES CA  Pink Cab      1.125732e+06\n",
              "                Yellow Cab    3.285977e+06\n",
              "MIAMI FL        Pink Cab      1.623012e+05\n",
              "                Yellow Cab    5.960001e+05\n",
              "NASHVILLE TN    Pink Cab      6.428453e+04\n",
              "                Yellow Cab    8.524768e+04\n",
              "NEW YORK NY     Pink Cab      1.511474e+06\n",
              "                Yellow Cab    2.645108e+07\n",
              "ORANGE COUNTY   Pink Cab      1.019958e+05\n",
              "                Yellow Cab    3.550060e+05\n",
              "PHOENIX AZ      Pink Cab      3.559639e+04\n",
              "                Yellow Cab    1.573445e+05\n",
              "PITTSBURGH PA   Pink Cab      1.710774e+04\n",
              "                Yellow Cab    6.805822e+04\n",
              "SACRAMENTO CA   Pink Cab      5.532401e+04\n",
              "                Yellow Cab    6.200218e+04\n",
              "SAN DIEGO CA    Pink Cab      6.378898e+05\n",
              "                Yellow Cab    9.492737e+05\n",
              "SEATTLE WA      Pink Cab      1.127813e+05\n",
              "                Yellow Cab    4.919035e+05\n",
              "SILICON VALLEY  Pink Cab      3.402505e+05\n",
              "                Yellow Cab    9.764547e+05\n",
              "TUCSON AZ       Pink Cab      5.928957e+04\n",
              "                Yellow Cab    8.097112e+04\n",
              "WASHINGTON DC   Pink Cab      1.937664e+05\n",
              "                Yellow Cab    3.299104e+06\n",
              "Name: Profit, dtype: float64"
            ]
          },
          "metadata": {},
          "execution_count": 30
        }
      ]
    },
    {
      "cell_type": "code",
      "source": [
        "profit_sum_city.unstack().plot(kind='bar', stacked=True, color = ('pink','yellow'),title = \"Profit in Each City per Company\")"
      ],
      "metadata": {
        "colab": {
          "base_uri": "https://localhost:8080/",
          "height": 390
        },
        "id": "Sz1SK4u2iDCe",
        "outputId": "f66857f5-b994-42ee-a5c7-28f2be1f1905"
      },
      "execution_count": 31,
      "outputs": [
        {
          "output_type": "execute_result",
          "data": {
            "text/plain": [
              "<matplotlib.axes._subplots.AxesSubplot at 0x7f41bbeb9150>"
            ]
          },
          "metadata": {},
          "execution_count": 31
        },
        {
          "output_type": "display_data",
          "data": {
            "text/plain": [
              "<Figure size 432x288 with 1 Axes>"
            ],
            "image/png": "[encoded data removed]"
          },
          "metadata": {
            "needs_background": "light"
          }
        }
      ]
    },
    {
      "cell_type": "markdown",
      "source": [
        "# QUESTION2: Which company is more favored by the customers"
      ],
      "metadata": {
        "id": "F1CbEvG1fI9z"
      }
    },
    {
      "cell_type": "code",
      "source": [
        "#calculate the number of unique customers for each company\n",
        "unique_customer_company = dataset.groupby(['Company'])['Customer ID'].nunique()\n",
        "unique_customer_company"
      ],
      "metadata": {
        "colab": {
          "base_uri": "https://localhost:8080/"
        },
        "id": "cXQREm-gNssr",
        "outputId": "aa2b270e-2a5c-4c35-8ec0-51f90fa363b9"
      },
      "execution_count": 32,
      "outputs": [
        {
          "output_type": "execute_result",
          "data": {
            "text/plain": [
              "Company\n",
              "Pink Cab      32330\n",
              "Yellow Cab    39896\n",
              "Name: Customer ID, dtype: int64"
            ]
          },
          "metadata": {},
          "execution_count": 32
        }
      ]
    },
    {
      "cell_type": "code",
      "source": [
        "Company = ['Pink Cab','Yellow Cab']\n",
        "Total_unique_customers = [32330, 39896]\n",
        "plt.bar(Company,Total_unique_customers,color = ['Pink','Yellow'])\n",
        "plt.title('Company Vs Total number of unique customers')\n",
        "plt.xlabel('Company')\n",
        "plt.ylabel('Total number of unique customers')\n",
        "plt.show()"
      ],
      "metadata": {
        "colab": {
          "base_uri": "https://localhost:8080/",
          "height": 295
        },
        "id": "YSjCAJ0hqesZ",
        "outputId": "56b06457-2541-4a2f-d436-6be062b64a03"
      },
      "execution_count": 33,
      "outputs": [
        {
          "output_type": "display_data",
          "data": {
            "text/plain": [
              "<Figure size 432x288 with 1 Axes>"
            ],
            "image/png": "[encoded data removed]"
          },
          "metadata": {
            "needs_background": "light"
          }
        }
      ]
    },
    {
      "cell_type": "code",
      "source": [
        "#display the number of unique customers per city for each company\n",
        "unique_number_of_customer_city = dataset.groupby(['City','Company'])['Customer ID'].nunique()\n",
        "unique_number_of_customer_city"
      ],
      "metadata": {
        "colab": {
          "base_uri": "https://localhost:8080/"
        },
        "id": "uwZBWd9CMsTO",
        "outputId": "807bd90f-a4e5-4c10-88fd-7df58416f3d7"
      },
      "execution_count": 34,
      "outputs": [
        {
          "output_type": "execute_result",
          "data": {
            "text/plain": [
              "City            Company   \n",
              "ATLANTA GA      Pink Cab      1322\n",
              "                Yellow Cab    2595\n",
              "AUSTIN TX       Pink Cab      1354\n",
              "                Yellow Cab    1914\n",
              "BOSTON MA       Pink Cab      2463\n",
              "                Yellow Cab    2997\n",
              "CHICAGO IL      Pink Cab      2859\n",
              "                Yellow Cab    3000\n",
              "DALLAS TX       Pink Cab      1118\n",
              "                Yellow Cab    2564\n",
              "DENVER CO       Pink Cab      1145\n",
              "                Yellow Cab    1681\n",
              "LOS ANGELES CA  Pink Cab      2996\n",
              "                Yellow Cab    2998\n",
              "MIAMI FL        Pink Cab      1480\n",
              "                Yellow Cab    2334\n",
              "NASHVILLE TN    Pink Cab      1356\n",
              "                Yellow Cab     965\n",
              "NEW YORK NY     Pink Cab      2972\n",
              "                Yellow Cab    3000\n",
              "ORANGE COUNTY   Pink Cab      1198\n",
              "                Yellow Cab    1712\n",
              "PHOENIX AZ      Pink Cab       763\n",
              "                Yellow Cab     994\n",
              "PITTSBURGH PA   Pink Cab       604\n",
              "                Yellow Cab     574\n",
              "SACRAMENTO CA   Pink Cab      1078\n",
              "                Yellow Cab     880\n",
              "SAN DIEGO CA    Pink Cab      2909\n",
              "                Yellow Cab    2886\n",
              "SEATTLE WA      Pink Cab      1790\n",
              "                Yellow Cab    2486\n",
              "SILICON VALLEY  Pink Cab      2130\n",
              "                Yellow Cab    2382\n",
              "TUCSON AZ       Pink Cab       684\n",
              "                Yellow Cab     934\n",
              "WASHINGTON DC   Pink Cab      2109\n",
              "                Yellow Cab    3000\n",
              "Name: Customer ID, dtype: int64"
            ]
          },
          "metadata": {},
          "execution_count": 34
        }
      ]
    },
    {
      "cell_type": "code",
      "source": [
        "unique_number_of_customer_city.unstack().plot(kind='bar', stacked=True, color = ('pink','yellow'),title = \"Total number of unique customers in Each City per Company\")"
      ],
      "metadata": {
        "colab": {
          "base_uri": "https://localhost:8080/",
          "height": 390
        },
        "id": "JSJhyrp5q1HG",
        "outputId": "214fc855-ce06-4012-8fc9-ddc90dffca6b"
      },
      "execution_count": 35,
      "outputs": [
        {
          "output_type": "execute_result",
          "data": {
            "text/plain": [
              "<matplotlib.axes._subplots.AxesSubplot at 0x7f41bc556210>"
            ]
          },
          "metadata": {},
          "execution_count": 35
        },
        {
          "output_type": "display_data",
          "data": {
            "text/plain": [
              "<Figure size 432x288 with 1 Axes>"
            ],
            "image/png": "[encoded data removed]"
          },
          "metadata": {
            "needs_background": "light"
          }
        }
      ]
    },
    {
      "cell_type": "markdown",
      "source": [
        "# QUESTION 3 : WHICH COMPANY HAS A LARGER NUMBER OF TRIPS"
      ],
      "metadata": {
        "id": "VRhCdKRIIV2q"
      }
    },
    {
      "cell_type": "code",
      "source": [
        "#calculate the number of taxi rides per company\n",
        "taxi_rides_company = dataset['Company'].value_counts()\n",
        "taxi_rides_company"
      ],
      "metadata": {
        "colab": {
          "base_uri": "https://localhost:8080/"
        },
        "id": "LTirjkgJrQ34",
        "outputId": "812a3211-316c-458a-bfb4-ddce670fcb8f"
      },
      "execution_count": 36,
      "outputs": [
        {
          "output_type": "execute_result",
          "data": {
            "text/plain": [
              "Yellow Cab    274681\n",
              "Pink Cab       84711\n",
              "Name: Company, dtype: int64"
            ]
          },
          "metadata": {},
          "execution_count": 36
        }
      ]
    },
    {
      "cell_type": "code",
      "source": [
        "Company = ['Yellow Cab','Pink Cab']\n",
        "Total_number_of_rides = [274681, 84711]\n",
        "plt.bar(Company,Total_number_of_rides,color = ['Yellow','Pink'])\n",
        "plt.title('Company Vs Total number of rides')\n",
        "plt.xlabel('Company')\n",
        "plt.ylabel('Total number of rides')\n",
        "plt.show()"
      ],
      "metadata": {
        "colab": {
          "base_uri": "https://localhost:8080/",
          "height": 295
        },
        "id": "FHMalsp_sGx7",
        "outputId": "74e88a09-bad0-4fac-bdab-8d189f82966e"
      },
      "execution_count": 37,
      "outputs": [
        {
          "output_type": "display_data",
          "data": {
            "text/plain": [
              "<Figure size 432x288 with 1 Axes>"
            ],
            "image/png": "[encoded data removed]"
          },
          "metadata": {
            "needs_background": "light"
          }
        }
      ]
    },
    {
      "cell_type": "code",
      "source": [
        "dataset['COUNTER'] = 1\n",
        "rides_num_company = dataset.groupby(['City','Company'])['COUNTER'].sum()\n",
        "print(rides_num_company)"
      ],
      "metadata": {
        "colab": {
          "base_uri": "https://localhost:8080/"
        },
        "id": "46_x5cLqsy4T",
        "outputId": "2228c591-44cd-4a59-aaf4-98423640e928"
      },
      "execution_count": 38,
      "outputs": [
        {
          "output_type": "stream",
          "name": "stdout",
          "text": [
            "City            Company   \n",
            "ATLANTA GA      Pink Cab       1762\n",
            "                Yellow Cab     5795\n",
            "AUSTIN TX       Pink Cab       1868\n",
            "                Yellow Cab     3028\n",
            "BOSTON MA       Pink Cab       5186\n",
            "                Yellow Cab    24506\n",
            "CHICAGO IL      Pink Cab       9361\n",
            "                Yellow Cab    47264\n",
            "DALLAS TX       Pink Cab       1380\n",
            "                Yellow Cab     5637\n",
            "DENVER CO       Pink Cab       1394\n",
            "                Yellow Cab     2431\n",
            "LOS ANGELES CA  Pink Cab      19865\n",
            "                Yellow Cab    28168\n",
            "MIAMI FL        Pink Cab       2002\n",
            "                Yellow Cab     4452\n",
            "NASHVILLE TN    Pink Cab       1841\n",
            "                Yellow Cab     1169\n",
            "NEW YORK NY     Pink Cab      13967\n",
            "                Yellow Cab    85918\n",
            "ORANGE COUNTY   Pink Cab       1513\n",
            "                Yellow Cab     2469\n",
            "PHOENIX AZ      Pink Cab        864\n",
            "                Yellow Cab     1200\n",
            "PITTSBURGH PA   Pink Cab        682\n",
            "                Yellow Cab      631\n",
            "SACRAMENTO CA   Pink Cab       1334\n",
            "                Yellow Cab     1033\n",
            "SAN DIEGO CA    Pink Cab      10672\n",
            "                Yellow Cab     9816\n",
            "SEATTLE WA      Pink Cab       2732\n",
            "                Yellow Cab     5265\n",
            "SILICON VALLEY  Pink Cab       3797\n",
            "                Yellow Cab     4722\n",
            "TUCSON AZ       Pink Cab        799\n",
            "                Yellow Cab     1132\n",
            "WASHINGTON DC   Pink Cab       3692\n",
            "                Yellow Cab    40045\n",
            "Name: COUNTER, dtype: int64\n"
          ]
        }
      ]
    },
    {
      "cell_type": "code",
      "source": [
        "rides_num_company.unstack().plot(kind='bar', stacked=True, color = ('pink','yellow'),title = \"Total number of rides in Each City per Company\")"
      ],
      "metadata": {
        "colab": {
          "base_uri": "https://localhost:8080/",
          "height": 390
        },
        "id": "sEK4DmAkxG-4",
        "outputId": "98ff7799-dc22-48da-a3bc-c362230785c8"
      },
      "execution_count": 39,
      "outputs": [
        {
          "output_type": "execute_result",
          "data": {
            "text/plain": [
              "<matplotlib.axes._subplots.AxesSubplot at 0x7f41bc44c590>"
            ]
          },
          "metadata": {},
          "execution_count": 39
        },
        {
          "output_type": "display_data",
          "data": {
            "text/plain": [
              "<Figure size 432x288 with 1 Axes>"
            ],
            "image/png": "[encoded data removed]"
          },
          "metadata": {
            "needs_background": "light"
          }
        }
      ]
    },
    {
      "cell_type": "markdown",
      "source": [
        "# QUESTION4: Does Yellow Cab has a higher average trips per customer?"
      ],
      "metadata": {
        "id": "JcjKey8BLx5C"
      }
    },
    {
      "cell_type": "code",
      "source": [
        "#calculate average trips per customers for each company\n",
        "taxi_rides_company = dataset['Company'].value_counts()\n",
        "average_trips_per_customer = taxi_rides_company/unique_customer_company\n",
        "average_trips_per_customer"
      ],
      "metadata": {
        "colab": {
          "base_uri": "https://localhost:8080/"
        },
        "id": "ilmD87sXJClH",
        "outputId": "d64ad3aa-b0af-4578-f5fb-cfaa3ff081bb"
      },
      "execution_count": 40,
      "outputs": [
        {
          "output_type": "execute_result",
          "data": {
            "text/plain": [
              "Pink Cab      2.620198\n",
              "Yellow Cab    6.884926\n",
              "dtype: float64"
            ]
          },
          "metadata": {},
          "execution_count": 40
        }
      ]
    },
    {
      "cell_type": "code",
      "source": [
        "Company = ['Yellow Cab','Pink Cab']\n",
        "Average_Trips_Per_Customer = [6.884926, 2.620198]\n",
        "plt.bar(Company,Average_Trips_Per_Customer,color = ['Yellow','Pink'])\n",
        "plt.title('Company Vs Average Trips Per Customer')\n",
        "plt.xlabel('Company')\n",
        "plt.ylabel('Average Trips Per Customer')\n",
        "plt.show()"
      ],
      "metadata": {
        "colab": {
          "base_uri": "https://localhost:8080/",
          "height": 295
        },
        "id": "njhUvZysMU0D",
        "outputId": "011899e1-6256-4356-cb85-7abd6ce36aa3"
      },
      "execution_count": 41,
      "outputs": [
        {
          "output_type": "display_data",
          "data": {
            "text/plain": [
              "<Figure size 432x288 with 1 Axes>"
            ],
            "image/png": "[encoded data removed]"
          },
          "metadata": {
            "needs_background": "light"
          }
        }
      ]
    },
    {
      "cell_type": "markdown",
      "source": [
        "# QUESTION5 : Which payment method do customers prefer"
      ],
      "metadata": {
        "id": "kP1GkJZIH_MA"
      }
    },
    {
      "cell_type": "code",
      "source": [
        "dataset['Payment_Mode'].value_counts()"
      ],
      "metadata": {
        "colab": {
          "base_uri": "https://localhost:8080/"
        },
        "id": "N12IchsyLthI",
        "outputId": "f0da0a0e-4a48-4e43-c0d0-3bbbf2c0df83"
      },
      "execution_count": 42,
      "outputs": [
        {
          "output_type": "execute_result",
          "data": {
            "text/plain": [
              "Card    215504\n",
              "Cash    143888\n",
              "Name: Payment_Mode, dtype: int64"
            ]
          },
          "metadata": {},
          "execution_count": 42
        }
      ]
    },
    {
      "cell_type": "code",
      "source": [
        "# pie chart of distribution of payment method \n",
        "labels = ['Card','Cash']\n",
        "payment_method = dataset['Payment_Mode'].value_counts()\n",
        "pie = plt.pie(payment_method, labels=labels,autopct='%.1f%%',explode=None,shadow=False, startangle=90)\n",
        "plt.axis('equal')\n",
        "plt.title('Payment Method', fontproperties=\"SimHei\")\n",
        "plt.show()"
      ],
      "metadata": {
        "colab": {
          "base_uri": "https://localhost:8080/",
          "height": 279
        },
        "id": "593Qyh4GOtuX",
        "outputId": "a3052d03-dbe3-49a4-997b-33a4d90000f3"
      },
      "execution_count": 43,
      "outputs": [
        {
          "output_type": "stream",
          "name": "stderr",
          "text": [
            "findfont: Font family ['SimHei'] not found. Falling back to DejaVu Sans.\n"
          ]
        },
        {
          "output_type": "display_data",
          "data": {
            "text/plain": [
              "<Figure size 432x288 with 1 Axes>"
            ],
            "image/png": "[encoded data removed]"
          },
          "metadata": {}
        }
      ]
    },
    {
      "cell_type": "code",
      "source": [
        "dataset['COUNTER'] = 1\n",
        "payment_company = dataset.groupby(['Payment_Mode','Company'])['COUNTER'].sum()\n",
        "print(payment_company)"
      ],
      "metadata": {
        "colab": {
          "base_uri": "https://localhost:8080/"
        },
        "id": "EcZ4jZxnPNi2",
        "outputId": "857a4b3a-c1ec-4f95-e2da-0d434a8b5286"
      },
      "execution_count": 44,
      "outputs": [
        {
          "output_type": "stream",
          "name": "stdout",
          "text": [
            "Payment_Mode  Company   \n",
            "Card          Pink Cab       50719\n",
            "              Yellow Cab    164785\n",
            "Cash          Pink Cab       33992\n",
            "              Yellow Cab    109896\n",
            "Name: COUNTER, dtype: int64\n"
          ]
        }
      ]
    },
    {
      "cell_type": "code",
      "source": [
        "# pie chart of distribution of payment method by company\n",
        "labels = ['Card-Pink Cab','Card-Yellow Cab','Cash-Pink Cab','Cash-Yellow Cab']\n",
        "payment_company = dataset.groupby(['Payment_Mode','Company'])['COUNTER'].sum()\n",
        "pie = plt.pie(payment_company, labels=labels,autopct='%.1f%%',explode=None,shadow=False, startangle=90)\n",
        "plt.axis('equal')\n",
        "plt.title('Payment Method by Company', fontproperties=\"SimHei\")\n",
        "plt.show()"
      ],
      "metadata": {
        "colab": {
          "base_uri": "https://localhost:8080/",
          "height": 262
        },
        "id": "ZTFgRdxOPYBZ",
        "outputId": "4b3c1bb7-b9a8-4364-cafb-fa010da35685"
      },
      "execution_count": 45,
      "outputs": [
        {
          "output_type": "display_data",
          "data": {
            "text/plain": [
              "<Figure size 432x288 with 1 Axes>"
            ],
            "image/png": "[encoded data removed]"
          },
          "metadata": {}
        }
      ]
    },
    {
      "cell_type": "markdown",
      "source": [
        "# QUESTION6 : How profit changed over the period"
      ],
      "metadata": {
        "id": "MkO5xKqjWubr"
      }
    },
    {
      "cell_type": "code",
      "source": [
        "dataset['Year'] = pd.DatetimeIndex(dataset['Date of Travel']).year\n",
        "dataset['Month'] = pd.DatetimeIndex(dataset['Date of Travel']).month\n",
        "dataset['Day'] = pd.DatetimeIndex(dataset['Date of Travel']).day"
      ],
      "metadata": {
        "id": "vtOCTi81W_BF"
      },
      "execution_count": 46,
      "outputs": []
    },
    {
      "cell_type": "code",
      "source": [
        "monthly_profit = dataset.groupby(['Month','Company'])['Profit'].sum()\n",
        "monthly_profit.unstack().plot(kind='line', color = ('pink','yellow'),title = \"Total Profit\")"
      ],
      "metadata": {
        "colab": {
          "base_uri": "https://localhost:8080/",
          "height": 312
        },
        "id": "sTccvZvTXqYs",
        "outputId": "d99d248a-aed0-4c4d-f8f4-d8cb488d2e64"
      },
      "execution_count": 47,
      "outputs": [
        {
          "output_type": "execute_result",
          "data": {
            "text/plain": [
              "<matplotlib.axes._subplots.AxesSubplot at 0x7f41bc2b4c10>"
            ]
          },
          "metadata": {},
          "execution_count": 47
        },
        {
          "output_type": "display_data",
          "data": {
            "text/plain": [
              "<Figure size 432x288 with 1 Axes>"
            ],
            "image/png": "[encoded data removed]"
          },
          "metadata": {
            "needs_background": "light"
          }
        }
      ]
    },
    {
      "cell_type": "markdown",
      "source": [
        "# Analysis"
      ],
      "metadata": {
        "id": "5ynOGUWYaWev"
      }
    },
    {
      "cell_type": "markdown",
      "source": [
        "1. Yellow Company has a higher profit than Pink Company.\n",
        "\n",
        "2. Yellow Company and Pink Company have huge amount of customers but the number of rides and the average number of rides per customer of Yellow Company is larger than Pink Company.\n",
        "\n",
        "Hence, the Yellow Company is a more competitive company to invest."
      ],
      "metadata": {
        "id": "GRTPfQS5aYah"
      }
    }
  ]
}